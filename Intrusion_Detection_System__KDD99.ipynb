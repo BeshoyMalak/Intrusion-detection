{
 "cells": [
  {
   "cell_type": "code",
   "execution_count": 1,
   "metadata": {
    "id": "tyojiD5G5s03",
    "outputId": "c2cc3b7a-e9e2-4988-ed20-33a59484f69c",
    "tags": []
   },
   "outputs": [
    {
     "name": "stdout",
     "output_type": "stream",
     "text": [
      "Looking in indexes: https://pypi.org/simple, https://pip.repos.neuron.amazonaws.com\n",
      "Requirement already satisfied: imblearn in /home/ec2-user/anaconda3/envs/pytorch_p38/lib/python3.8/site-packages (0.0)\n",
      "Requirement already satisfied: imbalanced-learn in /home/ec2-user/anaconda3/envs/pytorch_p38/lib/python3.8/site-packages (from imblearn) (0.9.1)\n",
      "Requirement already satisfied: joblib>=1.0.0 in /home/ec2-user/anaconda3/envs/pytorch_p38/lib/python3.8/site-packages (from imbalanced-learn->imblearn) (1.1.0)\n",
      "Requirement already satisfied: scikit-learn>=1.1.0 in /home/ec2-user/anaconda3/envs/pytorch_p38/lib/python3.8/site-packages (from imbalanced-learn->imblearn) (1.1.3)\n",
      "Requirement already satisfied: threadpoolctl>=2.0.0 in /home/ec2-user/anaconda3/envs/pytorch_p38/lib/python3.8/site-packages (from imbalanced-learn->imblearn) (3.0.0)\n",
      "Requirement already satisfied: numpy>=1.17.3 in /home/ec2-user/anaconda3/envs/pytorch_p38/lib/python3.8/site-packages (from imbalanced-learn->imblearn) (1.21.2)\n",
      "Requirement already satisfied: scipy>=1.3.2 in /home/ec2-user/anaconda3/envs/pytorch_p38/lib/python3.8/site-packages (from imbalanced-learn->imblearn) (1.7.2)\n",
      "\u001b[33mWARNING: You are using pip version 22.0.4; however, version 22.3.1 is available.\n",
      "You should consider upgrading via the '/home/ec2-user/anaconda3/envs/pytorch_p38/bin/python -m pip install --upgrade pip' command.\u001b[0m\u001b[33m\n",
      "\u001b[0mLooking in indexes: https://pypi.org/simple, https://pip.repos.neuron.amazonaws.com\n",
      "Requirement already satisfied: tensorflow in /home/ec2-user/anaconda3/envs/pytorch_p38/lib/python3.8/site-packages (2.10.0)\n",
      "Requirement already satisfied: flatbuffers>=2.0 in /home/ec2-user/anaconda3/envs/pytorch_p38/lib/python3.8/site-packages (from tensorflow) (22.10.26)\n",
      "Requirement already satisfied: opt-einsum>=2.3.2 in /home/ec2-user/anaconda3/envs/pytorch_p38/lib/python3.8/site-packages (from tensorflow) (3.3.0)\n",
      "Requirement already satisfied: typing-extensions>=3.6.6 in /home/ec2-user/anaconda3/envs/pytorch_p38/lib/python3.8/site-packages (from tensorflow) (4.0.0)\n",
      "Requirement already satisfied: h5py>=2.9.0 in /home/ec2-user/anaconda3/envs/pytorch_p38/lib/python3.8/site-packages (from tensorflow) (3.4.0)\n",
      "Requirement already satisfied: keras-preprocessing>=1.1.1 in /home/ec2-user/anaconda3/envs/pytorch_p38/lib/python3.8/site-packages (from tensorflow) (1.1.2)\n",
      "Requirement already satisfied: tensorboard<2.11,>=2.10 in /home/ec2-user/anaconda3/envs/pytorch_p38/lib/python3.8/site-packages (from tensorflow) (2.10.1)\n",
      "Requirement already satisfied: keras<2.11,>=2.10.0 in /home/ec2-user/anaconda3/envs/pytorch_p38/lib/python3.8/site-packages (from tensorflow) (2.10.0)\n",
      "Requirement already satisfied: libclang>=13.0.0 in /home/ec2-user/anaconda3/envs/pytorch_p38/lib/python3.8/site-packages (from tensorflow) (14.0.6)\n",
      "Requirement already satisfied: setuptools in /home/ec2-user/anaconda3/envs/pytorch_p38/lib/python3.8/site-packages (from tensorflow) (59.2.0)\n",
      "Requirement already satisfied: protobuf<3.20,>=3.9.2 in /home/ec2-user/anaconda3/envs/pytorch_p38/lib/python3.8/site-packages (from tensorflow) (3.19.4)\n",
      "Requirement already satisfied: absl-py>=1.0.0 in /home/ec2-user/anaconda3/envs/pytorch_p38/lib/python3.8/site-packages (from tensorflow) (1.3.0)\n",
      "Requirement already satisfied: wrapt>=1.11.0 in /home/ec2-user/anaconda3/envs/pytorch_p38/lib/python3.8/site-packages (from tensorflow) (1.13.3)\n",
      "Requirement already satisfied: tensorflow-io-gcs-filesystem>=0.23.1 in /home/ec2-user/anaconda3/envs/pytorch_p38/lib/python3.8/site-packages (from tensorflow) (0.27.0)\n",
      "Requirement already satisfied: six>=1.12.0 in /home/ec2-user/anaconda3/envs/pytorch_p38/lib/python3.8/site-packages (from tensorflow) (1.16.0)\n",
      "Requirement already satisfied: packaging in /home/ec2-user/anaconda3/envs/pytorch_p38/lib/python3.8/site-packages (from tensorflow) (21.3)\n",
      "Requirement already satisfied: numpy>=1.20 in /home/ec2-user/anaconda3/envs/pytorch_p38/lib/python3.8/site-packages (from tensorflow) (1.21.2)\n",
      "Requirement already satisfied: tensorflow-estimator<2.11,>=2.10.0 in /home/ec2-user/anaconda3/envs/pytorch_p38/lib/python3.8/site-packages (from tensorflow) (2.10.0)\n",
      "Requirement already satisfied: google-pasta>=0.1.1 in /home/ec2-user/anaconda3/envs/pytorch_p38/lib/python3.8/site-packages (from tensorflow) (0.2.0)\n",
      "Requirement already satisfied: astunparse>=1.6.0 in /home/ec2-user/anaconda3/envs/pytorch_p38/lib/python3.8/site-packages (from tensorflow) (1.6.3)\n",
      "Requirement already satisfied: termcolor>=1.1.0 in /home/ec2-user/anaconda3/envs/pytorch_p38/lib/python3.8/site-packages (from tensorflow) (2.1.0)\n",
      "Requirement already satisfied: grpcio<2.0,>=1.24.3 in /home/ec2-user/anaconda3/envs/pytorch_p38/lib/python3.8/site-packages (from tensorflow) (1.50.0)\n",
      "Requirement already satisfied: gast<=0.4.0,>=0.2.1 in /home/ec2-user/anaconda3/envs/pytorch_p38/lib/python3.8/site-packages (from tensorflow) (0.4.0)\n",
      "Requirement already satisfied: wheel<1.0,>=0.23.0 in /home/ec2-user/anaconda3/envs/pytorch_p38/lib/python3.8/site-packages (from astunparse>=1.6.0->tensorflow) (0.37.0)\n",
      "Requirement already satisfied: google-auth-oauthlib<0.5,>=0.4.1 in /home/ec2-user/anaconda3/envs/pytorch_p38/lib/python3.8/site-packages (from tensorboard<2.11,>=2.10->tensorflow) (0.4.6)\n",
      "Requirement already satisfied: werkzeug>=1.0.1 in /home/ec2-user/anaconda3/envs/pytorch_p38/lib/python3.8/site-packages (from tensorboard<2.11,>=2.10->tensorflow) (2.0.3)\n",
      "Requirement already satisfied: tensorboard-data-server<0.7.0,>=0.6.0 in /home/ec2-user/anaconda3/envs/pytorch_p38/lib/python3.8/site-packages (from tensorboard<2.11,>=2.10->tensorflow) (0.6.1)\n",
      "Requirement already satisfied: google-auth<3,>=1.6.3 in /home/ec2-user/anaconda3/envs/pytorch_p38/lib/python3.8/site-packages (from tensorboard<2.11,>=2.10->tensorflow) (2.14.1)\n",
      "Requirement already satisfied: markdown>=2.6.8 in /home/ec2-user/anaconda3/envs/pytorch_p38/lib/python3.8/site-packages (from tensorboard<2.11,>=2.10->tensorflow) (3.4.1)\n",
      "Requirement already satisfied: tensorboard-plugin-wit>=1.6.0 in /home/ec2-user/anaconda3/envs/pytorch_p38/lib/python3.8/site-packages (from tensorboard<2.11,>=2.10->tensorflow) (1.8.1)\n",
      "Requirement already satisfied: requests<3,>=2.21.0 in /home/ec2-user/anaconda3/envs/pytorch_p38/lib/python3.8/site-packages (from tensorboard<2.11,>=2.10->tensorflow) (2.26.0)\n",
      "Requirement already satisfied: pyparsing!=3.0.5,>=2.0.2 in /home/ec2-user/anaconda3/envs/pytorch_p38/lib/python3.8/site-packages (from packaging->tensorflow) (3.0.6)\n",
      "Requirement already satisfied: cachetools<6.0,>=2.0.0 in /home/ec2-user/anaconda3/envs/pytorch_p38/lib/python3.8/site-packages (from google-auth<3,>=1.6.3->tensorboard<2.11,>=2.10->tensorflow) (5.2.0)\n",
      "Requirement already satisfied: pyasn1-modules>=0.2.1 in /home/ec2-user/anaconda3/envs/pytorch_p38/lib/python3.8/site-packages (from google-auth<3,>=1.6.3->tensorboard<2.11,>=2.10->tensorflow) (0.2.8)\n",
      "Requirement already satisfied: rsa<5,>=3.1.4 in /home/ec2-user/anaconda3/envs/pytorch_p38/lib/python3.8/site-packages (from google-auth<3,>=1.6.3->tensorboard<2.11,>=2.10->tensorflow) (4.7.2)\n",
      "Requirement already satisfied: requests-oauthlib>=0.7.0 in /home/ec2-user/anaconda3/envs/pytorch_p38/lib/python3.8/site-packages (from google-auth-oauthlib<0.5,>=0.4.1->tensorboard<2.11,>=2.10->tensorflow) (1.3.1)\n",
      "Requirement already satisfied: importlib-metadata>=4.4 in /home/ec2-user/anaconda3/envs/pytorch_p38/lib/python3.8/site-packages (from markdown>=2.6.8->tensorboard<2.11,>=2.10->tensorflow) (4.8.2)\n",
      "Requirement already satisfied: charset-normalizer~=2.0.0 in /home/ec2-user/anaconda3/envs/pytorch_p38/lib/python3.8/site-packages (from requests<3,>=2.21.0->tensorboard<2.11,>=2.10->tensorflow) (2.0.7)\n",
      "Requirement already satisfied: certifi>=2017.4.17 in /home/ec2-user/anaconda3/envs/pytorch_p38/lib/python3.8/site-packages (from requests<3,>=2.21.0->tensorboard<2.11,>=2.10->tensorflow) (2021.10.8)\n",
      "Requirement already satisfied: idna<4,>=2.5 in /home/ec2-user/anaconda3/envs/pytorch_p38/lib/python3.8/site-packages (from requests<3,>=2.21.0->tensorboard<2.11,>=2.10->tensorflow) (3.1)\n",
      "Requirement already satisfied: urllib3<1.27,>=1.21.1 in /home/ec2-user/anaconda3/envs/pytorch_p38/lib/python3.8/site-packages (from requests<3,>=2.21.0->tensorboard<2.11,>=2.10->tensorflow) (1.26.8)\n",
      "Requirement already satisfied: zipp>=0.5 in /home/ec2-user/anaconda3/envs/pytorch_p38/lib/python3.8/site-packages (from importlib-metadata>=4.4->markdown>=2.6.8->tensorboard<2.11,>=2.10->tensorflow) (3.6.0)\n",
      "Requirement already satisfied: pyasn1<0.5.0,>=0.4.6 in /home/ec2-user/anaconda3/envs/pytorch_p38/lib/python3.8/site-packages (from pyasn1-modules>=0.2.1->google-auth<3,>=1.6.3->tensorboard<2.11,>=2.10->tensorflow) (0.4.8)\n",
      "Requirement already satisfied: oauthlib>=3.0.0 in /home/ec2-user/anaconda3/envs/pytorch_p38/lib/python3.8/site-packages (from requests-oauthlib>=0.7.0->google-auth-oauthlib<0.5,>=0.4.1->tensorboard<2.11,>=2.10->tensorflow) (3.2.2)\n",
      "\u001b[33mWARNING: You are using pip version 22.0.4; however, version 22.3.1 is available.\n",
      "You should consider upgrading via the '/home/ec2-user/anaconda3/envs/pytorch_p38/bin/python -m pip install --upgrade pip' command.\u001b[0m\u001b[33m\n",
      "\u001b[0m"
     ]
    }
   ],
   "source": [
    "!pip install imblearn\n",
    "!pip install tensorflow"
   ]
  },
  {
   "cell_type": "code",
   "execution_count": 2,
   "metadata": {
    "id": "5kSfswLYBfir",
    "tags": []
   },
   "outputs": [
    {
     "name": "stderr",
     "output_type": "stream",
     "text": [
      "2022-11-16 20:35:19.303107: I tensorflow/core/platform/cpu_feature_guard.cc:193] This TensorFlow binary is optimized with oneAPI Deep Neural Network Library (oneDNN) to use the following CPU instructions in performance-critical operations:  AVX2 AVX512F FMA\n",
      "To enable them in other operations, rebuild TensorFlow with the appropriate compiler flags.\n",
      "2022-11-16 20:35:19.689299: E tensorflow/stream_executor/cuda/cuda_blas.cc:2981] Unable to register cuBLAS factory: Attempting to register factory for plugin cuBLAS when one has already been registered\n"
     ]
    }
   ],
   "source": [
    "#import neccessary libraries\n",
    "from imblearn.combine import SMOTEENN\n",
    "from imblearn.over_sampling import SMOTE\n",
    "import pandas as pd\n",
    "import numpy as np\n",
    "from tensorflow.keras.utils import get_file\n",
    "import matplotlib.pyplot as plt\n",
    "from matplotlib.pyplot import *\n",
    "from collections import Counter\n",
    "import seaborn as sns\n",
    "from sklearn.linear_model import LogisticRegression\n",
    "from sklearn.neighbors import KNeighborsClassifier\n",
    "from sklearn import svm\n",
    "from sklearn.ensemble import RandomForestClassifier\n",
    "from sklearn.metrics import accuracy_score, f1_score, precision_score, recall_score\n",
    "from sklearn.metrics import confusion_matrix, roc_auc_score, roc_curve, classification_report, precision_recall_curve\n",
    "from sklearn.model_selection import train_test_split, cross_val_score, StratifiedKFold, GridSearchCV, RandomizedSearchCV\n",
    "from imblearn.combine import SMOTETomek\n",
    "import os\n",
    "from sklearn import metrics\n",
    "from scipy.stats import zscore\n",
    "from sklearn import decomposition\n",
    "from sklearn import tree\n",
    "from sklearn.pipeline import Pipeline\n",
    "from sklearn.model_selection import GridSearchCV, cross_val_score\n",
    "from sklearn.preprocessing import StandardScaler\n",
    "from sklearn.svm import SVC\n",
    "from sklearn.metrics import plot_confusion_matrix"
   ]
  },
  {
   "cell_type": "markdown",
   "metadata": {
    "id": "IAd208zvDYxb"
   },
   "source": [
    "#KDD99"
   ]
  },
  {
   "cell_type": "code",
   "execution_count": 3,
   "metadata": {
    "id": "uo2g92BJBl3y",
    "tags": []
   },
   "outputs": [],
   "source": [
    "path = \"kddcup.data.corrected\"\n",
    "kdd_df = pd.read_csv(path, header=None)"
   ]
  },
  {
   "cell_type": "code",
   "execution_count": 4,
   "metadata": {
    "colab": {
     "base_uri": "https://localhost:8080/"
    },
    "id": "xJRrXj3AZi6U",
    "outputId": "b644f657-e947-4870-e36d-0a042df9a224",
    "tags": []
   },
   "outputs": [
    {
     "name": "stdout",
     "output_type": "stream",
     "text": [
      "<class 'pandas.core.frame.DataFrame'>\n",
      "RangeIndex: 4898431 entries, 0 to 4898430\n",
      "Data columns (total 42 columns):\n",
      " #   Column  Dtype  \n",
      "---  ------  -----  \n",
      " 0   0       int64  \n",
      " 1   1       object \n",
      " 2   2       object \n",
      " 3   3       object \n",
      " 4   4       int64  \n",
      " 5   5       int64  \n",
      " 6   6       int64  \n",
      " 7   7       int64  \n",
      " 8   8       int64  \n",
      " 9   9       int64  \n",
      " 10  10      int64  \n",
      " 11  11      int64  \n",
      " 12  12      int64  \n",
      " 13  13      int64  \n",
      " 14  14      int64  \n",
      " 15  15      int64  \n",
      " 16  16      int64  \n",
      " 17  17      int64  \n",
      " 18  18      int64  \n",
      " 19  19      int64  \n",
      " 20  20      int64  \n",
      " 21  21      int64  \n",
      " 22  22      int64  \n",
      " 23  23      int64  \n",
      " 24  24      float64\n",
      " 25  25      float64\n",
      " 26  26      float64\n",
      " 27  27      float64\n",
      " 28  28      float64\n",
      " 29  29      float64\n",
      " 30  30      float64\n",
      " 31  31      int64  \n",
      " 32  32      int64  \n",
      " 33  33      float64\n",
      " 34  34      float64\n",
      " 35  35      float64\n",
      " 36  36      float64\n",
      " 37  37      float64\n",
      " 38  38      float64\n",
      " 39  39      float64\n",
      " 40  40      float64\n",
      " 41  41      object \n",
      "dtypes: float64(15), int64(23), object(4)\n",
      "memory usage: 1.5+ GB\n"
     ]
    }
   ],
   "source": [
    "kdd_df.info()"
   ]
  },
  {
   "cell_type": "code",
   "execution_count": 5,
   "metadata": {
    "id": "vsDmtgHzCDSw",
    "tags": []
   },
   "outputs": [],
   "source": [
    "#original data columns are unlabeled, we are labeling them\n",
    "kdd_df.columns = [\n",
    "    'duration',\n",
    "    'protocol_type',\n",
    "    'service',\n",
    "    'flag',\n",
    "    'src_bytes',\n",
    "    'dst_bytes',\n",
    "    'land',\n",
    "    'wrong_fragment',\n",
    "    'urgent',\n",
    "    'hot',\n",
    "    'num_failed_logins',\n",
    "    'logged_in',\n",
    "    'num_compromised',\n",
    "    'root_shell',\n",
    "    'su_attempted',\n",
    "    'num_root',\n",
    "    'num_file_creations',\n",
    "    'num_shells',\n",
    "    'num_access_files',\n",
    "    'num_outbound_cmds',\n",
    "    'is_host_login',\n",
    "    'is_guest_login',\n",
    "    'count',\n",
    "    'srv_count',\n",
    "    'serror_rate',\n",
    "    'srv_serror_rate',\n",
    "    'rerror_rate',\n",
    "    'srv_rerror_rate',\n",
    "    'same_srv_rate',\n",
    "    'diff_srv_rate',\n",
    "    'srv_diff_host_rate',\n",
    "    'dst_host_count',\n",
    "    'dst_host_srv_count',\n",
    "    'dst_host_same_srv_rate',\n",
    "    'dst_host_diff_srv_rate',\n",
    "    'dst_host_same_src_port_rate',\n",
    "    'dst_host_srv_diff_host_rate',\n",
    "    'dst_host_serror_rate',\n",
    "    'dst_host_srv_serror_rate',\n",
    "    'dst_host_rerror_rate',\n",
    "    'dst_host_srv_rerror_rate',\n",
    "    'outcome'\n",
    "]"
   ]
  },
  {
   "cell_type": "code",
   "execution_count": 6,
   "metadata": {
    "colab": {
     "base_uri": "https://localhost:8080/"
    },
    "id": "t_mZA3pu1rQt",
    "outputId": "6475d717-544a-4014-bb60-87ca073c1721",
    "tags": []
   },
   "outputs": [
    {
     "name": "stdout",
     "output_type": "stream",
     "text": [
      "<class 'pandas.core.frame.DataFrame'>\n",
      "RangeIndex: 4898431 entries, 0 to 4898430\n",
      "Data columns (total 42 columns):\n",
      " #   Column                       Dtype  \n",
      "---  ------                       -----  \n",
      " 0   duration                     int64  \n",
      " 1   protocol_type                object \n",
      " 2   service                      object \n",
      " 3   flag                         object \n",
      " 4   src_bytes                    int64  \n",
      " 5   dst_bytes                    int64  \n",
      " 6   land                         int64  \n",
      " 7   wrong_fragment               int64  \n",
      " 8   urgent                       int64  \n",
      " 9   hot                          int64  \n",
      " 10  num_failed_logins            int64  \n",
      " 11  logged_in                    int64  \n",
      " 12  num_compromised              int64  \n",
      " 13  root_shell                   int64  \n",
      " 14  su_attempted                 int64  \n",
      " 15  num_root                     int64  \n",
      " 16  num_file_creations           int64  \n",
      " 17  num_shells                   int64  \n",
      " 18  num_access_files             int64  \n",
      " 19  num_outbound_cmds            int64  \n",
      " 20  is_host_login                int64  \n",
      " 21  is_guest_login               int64  \n",
      " 22  count                        int64  \n",
      " 23  srv_count                    int64  \n",
      " 24  serror_rate                  float64\n",
      " 25  srv_serror_rate              float64\n",
      " 26  rerror_rate                  float64\n",
      " 27  srv_rerror_rate              float64\n",
      " 28  same_srv_rate                float64\n",
      " 29  diff_srv_rate                float64\n",
      " 30  srv_diff_host_rate           float64\n",
      " 31  dst_host_count               int64  \n",
      " 32  dst_host_srv_count           int64  \n",
      " 33  dst_host_same_srv_rate       float64\n",
      " 34  dst_host_diff_srv_rate       float64\n",
      " 35  dst_host_same_src_port_rate  float64\n",
      " 36  dst_host_srv_diff_host_rate  float64\n",
      " 37  dst_host_serror_rate         float64\n",
      " 38  dst_host_srv_serror_rate     float64\n",
      " 39  dst_host_rerror_rate         float64\n",
      " 40  dst_host_srv_rerror_rate     float64\n",
      " 41  outcome                      object \n",
      "dtypes: float64(15), int64(23), object(4)\n",
      "memory usage: 1.5+ GB\n"
     ]
    }
   ],
   "source": [
    "kdd_df.info()"
   ]
  },
  {
   "cell_type": "code",
   "execution_count": 7,
   "metadata": {
    "colab": {
     "base_uri": "https://localhost:8080/"
    },
    "execution": {
     "iopub.execute_input": "2022-11-15T02:22:02.449122Z",
     "iopub.status.busy": "2022-11-15T02:22:02.448884Z",
     "iopub.status.idle": "2022-11-15T02:22:02.463094Z",
     "shell.execute_reply": "2022-11-15T02:22:02.462516Z",
     "shell.execute_reply.started": "2022-11-15T02:22:02.449099Z"
    },
    "id": "3zKHpKHBCh2U",
    "outputId": "5368d67a-610f-49a6-bc71-c014c57a434f"
   },
   "outputs": [
    {
     "name": "stdout",
     "output_type": "stream",
     "text": [
      "Read 4898431 rows.\n",
      "========================================\n",
      "The number of data points are: 4898431\n",
      "========================================\n",
      "The number of features are: 42\n",
      "========================================\n",
      "The different type of output labels are: {'portsweep.', 'teardrop.', 'back.', 'spy.', 'ftp_write.', 'warezclient.', 'perl.', 'phf.', 'neptune.', 'multihop.', 'guess_passwd.', 'land.', 'pod.', 'satan.', 'smurf.', 'loadmodule.', 'rootkit.', 'ipsweep.', 'buffer_overflow.', 'warezmaster.', 'imap.', 'nmap.', 'normal.'}\n",
      "=============================================================================================================================\n",
      "The number of different output labels are: 23\n"
     ]
    }
   ],
   "source": [
    "#print some insights about the KDD99 dataset\n",
    "print(\"Read {} rows.\".format(len(kdd_df)))\n",
    "print('='*40)\n",
    "print('The number of data points are:', kdd_df.shape[0])\n",
    "print('='*40)\n",
    "print('The number of features are:', kdd_df.shape[1])\n",
    "print('='*40)\n",
    "output = kdd_df['outcome'].values\n",
    "labels = set(output)\n",
    "print('The different type of output labels are:', labels)\n",
    "print('='*125)\n",
    "print('The number of different output labels are:', len(labels))"
   ]
  },
  {
   "cell_type": "markdown",
   "metadata": {
    "id": "y4v2O6YOIYxB"
   },
   "source": [
    "##Data Cleaning"
   ]
  },
  {
   "cell_type": "code",
   "execution_count": 8,
   "metadata": {
    "colab": {
     "base_uri": "https://localhost:8080/"
    },
    "execution": {
     "iopub.execute_input": "2022-11-15T02:22:02.464348Z",
     "iopub.status.busy": "2022-11-15T02:22:02.464154Z",
     "iopub.status.idle": "2022-11-15T02:22:02.975210Z",
     "shell.execute_reply": "2022-11-15T02:22:02.974570Z",
     "shell.execute_reply.started": "2022-11-15T02:22:02.464328Z"
    },
    "id": "AeOoPMbcIPv_",
    "outputId": "f287e28f-fe97-4fdf-bcb0-41339d8b6934"
   },
   "outputs": [
    {
     "name": "stdout",
     "output_type": "stream",
     "text": [
      "Null values in dataset are 0\n",
      "========================================\n",
      "Read 1074992 rows.\n"
     ]
    }
   ],
   "source": [
    "# Checking for NULL values\n",
    "print('Null values in dataset are',len(kdd_df[kdd_df.isnull().any(1)]))\n",
    "print('='*40)\n",
    "\n",
    "# Checkng for DUPLICATE values\n",
    "kdd_df.drop_duplicates(keep='first', inplace = True)\n",
    "\n",
    "# For now, just drop NA's (rows with missing values)\n",
    "kdd_df.dropna(inplace=True,axis=1) \n",
    "print(\"Read {} rows.\".format(len(kdd_df)))"
   ]
  },
  {
   "cell_type": "code",
   "execution_count": 9,
   "metadata": {
    "colab": {
     "base_uri": "https://localhost:8080/"
    },
    "execution": {
     "iopub.execute_input": "2022-11-15T02:22:02.976255Z",
     "iopub.status.busy": "2022-11-15T02:22:02.976041Z",
     "iopub.status.idle": "2022-11-15T02:22:03.192306Z",
     "shell.execute_reply": "2022-11-15T02:22:03.191496Z",
     "shell.execute_reply.started": "2022-11-15T02:22:02.976234Z"
    },
    "id": "z4-GESzfIoXn",
    "outputId": "05a34052-4f6d-4fa7-c97f-a93d15fab4bd"
   },
   "outputs": [
    {
     "data": {
      "image/png": "[encoded data removed]",
      "text/plain": [
       "<Figure size 1080x504 with 1 Axes>"
      ]
     },
     "metadata": {
      "needs_background": "light"
     },
     "output_type": "display_data"
    }
   ],
   "source": [
    "plt.figure(figsize=(15,7))\n",
    "class_distribution = kdd_df['outcome'].value_counts()\n",
    "class_distribution.plot(kind='bar')\n",
    "plt.xlabel('Class')\n",
    "plt.ylabel('Data points per Class')\n",
    "plt.title('Distribution of yi in train data')\n",
    "plt.grid()\n",
    "plt.show()"
   ]
  },
  {
   "cell_type": "code",
   "execution_count": 10,
   "metadata": {
    "colab": {
     "base_uri": "https://localhost:8080/"
    },
    "execution": {
     "iopub.execute_input": "2022-11-15T02:22:03.194914Z",
     "iopub.status.busy": "2022-11-15T02:22:03.194703Z",
     "iopub.status.idle": "2022-11-15T02:22:03.200365Z",
     "shell.execute_reply": "2022-11-15T02:22:03.199721Z",
     "shell.execute_reply.started": "2022-11-15T02:22:03.194895Z"
    },
    "id": "gJIzCp1II2u8",
    "outputId": "476a8115-7b65-4fba-ab04-818ccc1ab26c"
   },
   "outputs": [
    {
     "name": "stdout",
     "output_type": "stream",
     "text": [
      "Number of data points in class normal. : 812814 ( 75.611 %)\n",
      "Number of data points in class neptune. : 242149 ( 22.526 %)\n",
      "Number of data points in class satan. : 5019 ( 0.467 %)\n",
      "Number of data points in class ipsweep. : 3723 ( 0.346 %)\n",
      "Number of data points in class portsweep. : 3564 ( 0.332 %)\n",
      "Number of data points in class smurf. : 3007 ( 0.28 %)\n",
      "Number of data points in class nmap. : 1554 ( 0.145 %)\n",
      "Number of data points in class back. : 968 ( 0.09 %)\n",
      "Number of data points in class teardrop. : 918 ( 0.085 %)\n",
      "Number of data points in class warezclient. : 893 ( 0.083 %)\n",
      "Number of data points in class pod. : 206 ( 0.019 %)\n",
      "Number of data points in class guess_passwd. : 53 ( 0.005 %)\n",
      "Number of data points in class buffer_overflow. : 30 ( 0.003 %)\n",
      "Number of data points in class warezmaster. : 20 ( 0.002 %)\n",
      "Number of data points in class land. : 19 ( 0.002 %)\n",
      "Number of data points in class imap. : 12 ( 0.001 %)\n",
      "Number of data points in class rootkit. : 10 ( 0.001 %)\n",
      "Number of data points in class loadmodule. : 9 ( 0.001 %)\n",
      "Number of data points in class ftp_write. : 8 ( 0.001 %)\n",
      "Number of data points in class multihop. : 7 ( 0.001 %)\n",
      "Number of data points in class phf. : 4 ( 0.0 %)\n",
      "Number of data points in class perl. : 3 ( 0.0 %)\n",
      "Number of data points in class spy. : 2 ( 0.0 %)\n"
     ]
    }
   ],
   "source": [
    "sorted_yi = np.argsort(-class_distribution.values)\n",
    "for i in sorted_yi:\n",
    "    print('Number of data points in class', class_distribution.index[i],':', class_distribution.values[i], \n",
    "          '(', np.round((class_distribution.values[i]/kdd_df.shape[0]*100), 3), '%)')"
   ]
  },
  {
   "cell_type": "markdown",
   "metadata": {
    "id": "QBiRuWbuQw22"
   },
   "source": [
    "#Some preprocessing"
   ]
  },
  {
   "cell_type": "code",
   "execution_count": 11,
   "metadata": {
    "colab": {
     "base_uri": "https://localhost:8080/"
    },
    "execution": {
     "iopub.execute_input": "2022-11-15T02:22:03.201245Z",
     "iopub.status.busy": "2022-11-15T02:22:03.201065Z",
     "iopub.status.idle": "2022-11-15T02:22:03.209979Z",
     "shell.execute_reply": "2022-11-15T02:22:03.209469Z",
     "shell.execute_reply.started": "2022-11-15T02:22:03.201228Z"
    },
    "id": "ubtqlBz11q1k",
    "outputId": "9bfb8961-5a0b-4652-d640-f4e0617cf51c"
   },
   "outputs": [
    {
     "data": {
      "text/plain": [
       "array(['normal.', 'buffer_overflow.', 'loadmodule.', 'perl.', 'neptune.',\n",
       "       'smurf.', 'guess_passwd.', 'pod.', 'teardrop.', 'portsweep.',\n",
       "       'ipsweep.', 'land.', 'ftp_write.', 'back.', 'imap.', 'satan.',\n",
       "       'phf.', 'nmap.', 'multihop.', 'warezmaster.', 'warezclient.',\n",
       "       'spy.', 'rootkit.'], dtype=object)"
      ]
     },
     "execution_count": 11,
     "metadata": {},
     "output_type": "execute_result"
    }
   ],
   "source": [
    "kdd_df['outcome'].unique()"
   ]
  },
  {
   "cell_type": "markdown",
   "metadata": {
    "id": "Cw_S_FF37BkE"
   },
   "source": [
    "##Apply onehot encoding to the categorical columns"
   ]
  },
  {
   "cell_type": "code",
   "execution_count": 12,
   "metadata": {
    "id": "Ie8Jour66alF",
    "tags": []
   },
   "outputs": [],
   "source": [
    "ENCODING = 'utf-8'\n",
    "\n",
    "def expand_categories(values):\n",
    "    result = []\n",
    "    s = values.value_counts()\n",
    "    t = float(len(values))\n",
    "    for v in s.index:\n",
    "        result.append(\"{}:{}%\".format(v,round(100*(s[v]/t),2)))\n",
    "    return \"[{}]\".format(\",\".join(result))\n",
    "        \n",
    "def analyze(df):\n",
    "    print()\n",
    "    cols = df.columns.values\n",
    "    total = float(len(df))\n",
    "\n",
    "    print(\"{} rows\".format(int(total)))\n",
    "    for col in cols:\n",
    "        uniques = df[col].unique()\n",
    "        unique_count = len(uniques)\n",
    "        if unique_count>100:\n",
    "            print(\"** {}:{} ({}%)\".format(col,unique_count,int(((unique_count)/total)*100)))\n",
    "        else:\n",
    "            print(\"** {}:{}\".format(col,expand_categories(df[col])))\n",
    "            expand_categories(df[col])"
   ]
  },
  {
   "cell_type": "code",
   "execution_count": 13,
   "metadata": {
    "colab": {
     "base_uri": "https://localhost:8080/"
    },
    "execution": {
     "iopub.execute_input": "2022-11-15T02:22:03.216743Z",
     "iopub.status.busy": "2022-11-15T02:22:03.216576Z",
     "iopub.status.idle": "2022-11-15T02:22:03.365423Z",
     "shell.execute_reply": "2022-11-15T02:22:03.364669Z",
     "shell.execute_reply.started": "2022-11-15T02:22:03.216727Z"
    },
    "id": "Fj8l57jY7TRe",
    "outputId": "e099fc35-a003-46e9-d6f1-20413172321c"
   },
   "outputs": [
    {
     "name": "stdout",
     "output_type": "stream",
     "text": [
      "\n",
      "1074992 rows\n",
      "** duration:9883 (0%)\n",
      "** protocol_type:[tcp:91.03%,udp:7.86%,icmp:1.11%]\n",
      "** service:[http:54.0%,private:18.49%,smtp:8.98%,domain_u:4.35%,ftp_data:3.76%,other:2.88%,finger:0.64%,eco_i:0.49%,ftp:0.48%,telnet:0.39%,ecr_i:0.35%,auth:0.31%,urp_i:0.25%,ntp_u:0.21%,pop_3:0.18%,time:0.11%,domain:0.1%,Z39_50:0.1%,gopher:0.1%,mtp:0.1%,whois:0.1%,remote_job:0.1%,uucp_path:0.1%,ssh:0.1%,ctf:0.1%,discard:0.1%,link:0.1%,name:0.1%,daytime:0.1%,iso_tsap:0.1%,netstat:0.1%,netbios_ns:0.1%,pop_2:0.1%,csnet_ns:0.1%,imap4:0.1%,rje:0.1%,echo:0.1%,klogin:0.1%,netbios_dgm:0.09%,sql_net:0.09%,nnsp:0.09%,supdup:0.09%,nntp:0.09%,netbios_ssn:0.09%,shell:0.09%,vmnet:0.09%,hostnames:0.09%,systat:0.09%,bgp:0.09%,ldap:0.09%,kshell:0.09%,sunrpc:0.09%,printer:0.09%,courier:0.09%,login:0.09%,http_443:0.09%,uucp:0.09%,efs:0.09%,exec:0.09%,IRC:0.05%,urh_i:0.01%,X11:0.01%,tim_i:0.0%,red_i:0.0%,pm_dump:0.0%,tftp_u:0.0%,harvest:0.0%,aol:0.0%,http_8001:0.0%,http_2784:0.0%]\n",
      "** flag:[SF:73.19%,S0:18.94%,REJ:7.02%,RSTO:0.47%,RSTR:0.26%,S1:0.05%,SH:0.03%,S2:0.01%,RSTOS0:0.01%,S3:0.0%,OTH:0.0%]\n",
      "** src_bytes:7195 (0%)\n",
      "** dst_bytes:21493 (1%)\n",
      "** land:[0:100.0%,1:0.0%]\n",
      "** wrong_fragment:[0:99.9%,3:0.08%,1:0.02%]\n",
      "** urgent:[0:100.0%,1:0.0%,2:0.0%,5:0.0%,3:0.0%,14:0.0%]\n",
      "** hot:[0:99.35%,2:0.13%,1:0.12%,4:0.09%,6:0.08%,5:0.03%,30:0.03%,19:0.03%,28:0.03%,14:0.03%,18:0.02%,22:0.02%,24:0.02%,3:0.01%,7:0.0%,20:0.0%,9:0.0%,15:0.0%,17:0.0%,11:0.0%,10:0.0%,16:0.0%,12:0.0%,21:0.0%,13:0.0%,8:0.0%,44:0.0%,25:0.0%,77:0.0%,33:0.0%]\n",
      "** num_failed_logins:[0:99.99%,1:0.01%,2:0.0%,3:0.0%,4:0.0%,5:0.0%]\n",
      "** logged_in:[1:63.01%,0:36.99%]\n",
      "** num_compromised:[0:99.85%,1:0.11%,2:0.01%,3:0.01%,4:0.01%,5:0.0%,6:0.0%,7:0.0%,8:0.0%,9:0.0%,13:0.0%,18:0.0%,11:0.0%,12:0.0%,10:0.0%,17:0.0%,16:0.0%,21:0.0%,14:0.0%,23:0.0%,884:0.0%,371:0.0%,31:0.0%,151:0.0%,457:0.0%,38:0.0%,15:0.0%,691:0.0%,1739:0.0%,78:0.0%,676:0.0%,102:0.0%,520:0.0%,275:0.0%,254:0.0%,7479:0.0%,756:0.0%,373:0.0%,237:0.0%,121:0.0%,568:0.0%,375:0.0%,157:0.0%,75:0.0%,46:0.0%,54:0.0%,407:0.0%,41:0.0%,538:0.0%,456:0.0%,64:0.0%,435:0.0%,1043:0.0%,174:0.0%,789:0.0%,193:0.0%,166:0.0%,110:0.0%,238:0.0%,281:0.0%,452:0.0%,74:0.0%,187:0.0%,198:0.0%,767:0.0%,19:0.0%,543:0.0%,345:0.0%,751:0.0%,27:0.0%,202:0.0%,107:0.0%,349:0.0%,270:0.0%,175:0.0%,217:0.0%,83:0.0%,394:0.0%,40:0.0%,558:0.0%,537:0.0%,29:0.0%,37:0.0%,809:0.0%,307:0.0%,94:0.0%,378:0.0%,177:0.0%,622:0.0%,462:0.0%,761:0.0%,258:0.0%,247:0.0%,716:0.0%,682:0.0%,44:0.0%,22:0.0%,405:0.0%]\n",
      "** root_shell:[0:99.97%,1:0.03%]\n",
      "** su_attempted:[0:99.99%,2:0.01%,1:0.0%]\n",
      "** num_root:[0:99.47%,1:0.22%,9:0.14%,6:0.11%,5:0.02%,2:0.01%,4:0.01%,3:0.0%,10:0.0%,7:0.0%,8:0.0%,421:0.0%,39:0.0%,26:0.0%,11:0.0%,22:0.0%,857:0.0%,36:0.0%,446:0.0%,306:0.0%,54:0.0%,508:0.0%,1743:0.0%,71:0.0%,754:0.0%,572:0.0%,289:0.0%,261:0.0%,7468:0.0%,14:0.0%,121:0.0%,204:0.0%,119:0.0%,278:0.0%,629:0.0%,766:0.0%,123:0.0%,41:0.0%,184:0.0%,55:0.0%,74:0.0%,605:0.0%,502:0.0%,195:0.0%,993:0.0%,480:0.0%,179:0.0%,889:0.0%,146:0.0%,1045:0.0%,867:0.0%,191:0.0%,425:0.0%,626:0.0%,28:0.0%,849:0.0%,338:0.0%,187:0.0%,16:0.0%,610:0.0%,417:0.0%,416:0.0%,975:0.0%,390:0.0%,505:0.0%,841:0.0%,222:0.0%,100:0.0%,387:0.0%,290:0.0%,206:0.0%,247:0.0%,38:0.0%,218:0.0%,77:0.0%,17:0.0%,439:0.0%,104:0.0%,268:0.0%,190:0.0%,611:0.0%,684:0.0%,91:0.0%,287:0.0%,151:0.0%,402:0.0%,789:0.0%,749:0.0%,47:0.0%,12:0.0%,512:0.0%,40:0.0%,450:0.0%]\n",
      "** num_file_creations:[0:99.78%,1:0.17%,2:0.03%,4:0.0%,17:0.0%,12:0.0%,14:0.0%,20:0.0%,13:0.0%,11:0.0%,10:0.0%,16:0.0%,15:0.0%,8:0.0%,18:0.0%,5:0.0%,9:0.0%,23:0.0%,19:0.0%,3:0.0%,26:0.0%,25:0.0%,22:0.0%,28:0.0%,7:0.0%,35:0.0%,29:0.0%,6:0.0%,40:0.0%,34:0.0%,32:0.0%,27:0.0%,21:0.0%,36:0.0%,43:0.0%,38:0.0%,33:0.0%,30:0.0%,24:0.0%,31:0.0%,37:0.0%,41:0.0%]\n",
      "** num_shells:[0:99.97%,1:0.03%,2:0.0%]\n",
      "** num_access_files:[0:99.6%,1:0.38%,2:0.02%,4:0.0%,5:0.0%,3:0.0%,6:0.0%,8:0.0%,7:0.0%,9:0.0%]\n",
      "** num_outbound_cmds:[0:100.0%]\n",
      "** is_host_login:[0:100.0%,1:0.0%]\n",
      "** is_guest_login:[0:99.62%,1:0.38%]\n",
      "** count:512 (0%)\n",
      "** srv_count:512 (0%)\n",
      "** serror_rate:[0.0:80.16%,1.0:18.54%,0.99:0.26%,0.06:0.08%,0.08:0.07%,0.07:0.07%,0.05:0.06%,0.04:0.06%,0.03:0.06%,0.5:0.05%,0.09:0.05%,0.1:0.05%,0.11:0.04%,0.2:0.04%,0.14:0.04%,0.25:0.04%,0.12:0.04%,0.33:0.04%,0.17:0.04%,0.01:0.02%,0.02:0.02%,0.98:0.02%,0.97:0.01%,0.13:0.01%,0.23:0.01%,0.21:0.01%,0.96:0.01%,0.16:0.01%,0.22:0.01%,0.18:0.01%,0.15:0.0%,0.19:0.0%,0.94:0.0%,0.95:0.0%,0.24:0.0%,0.8:0.0%,0.29:0.0%,0.27:0.0%,0.93:0.0%,0.28:0.0%,0.79:0.0%,0.65:0.0%,0.64:0.0%,0.26:0.0%,0.67:0.0%,0.75:0.0%,0.63:0.0%,0.83:0.0%,0.85:0.0%,0.66:0.0%,0.44:0.0%,0.86:0.0%,0.84:0.0%,0.3:0.0%,0.59:0.0%,0.81:0.0%,0.82:0.0%,0.74:0.0%,0.78:0.0%,0.6:0.0%,0.92:0.0%,0.58:0.0%,0.62:0.0%,0.57:0.0%,0.61:0.0%,0.68:0.0%,0.73:0.0%,0.35:0.0%,0.31:0.0%,0.32:0.0%,0.7:0.0%,0.4:0.0%,0.71:0.0%,0.69:0.0%,0.77:0.0%,0.91:0.0%,0.56:0.0%,0.53:0.0%,0.72:0.0%,0.76:0.0%,0.36:0.0%,0.55:0.0%,0.52:0.0%,0.51:0.0%,0.9:0.0%,0.88:0.0%,0.54:0.0%,0.34:0.0%,0.89:0.0%,0.38:0.0%,0.87:0.0%,0.43:0.0%,0.41:0.0%,0.39:0.0%,0.37:0.0%,0.42:0.0%]\n",
      "** srv_serror_rate:[0.0:79.95%,1.0:18.92%,0.03:0.13%,0.04:0.11%,0.05:0.1%,0.06:0.09%,0.02:0.08%,0.08:0.07%,0.07:0.06%,0.5:0.05%,0.33:0.04%,0.25:0.04%,0.12:0.04%,0.17:0.04%,0.14:0.04%,0.2:0.04%,0.11:0.04%,0.1:0.04%,0.09:0.04%,0.01:0.01%,0.67:0.01%,0.95:0.01%,0.94:0.0%,0.22:0.0%,0.15:0.0%,0.18:0.0%,0.13:0.0%,0.29:0.0%,0.92:0.0%,0.4:0.0%,0.93:0.0%,0.91:0.0%,0.75:0.0%,0.88:0.0%,0.89:0.0%,0.9:0.0%,0.83:0.0%,0.8:0.0%,0.86:0.0%,0.19:0.0%,0.23:0.0%,0.21:0.0%,0.3:0.0%,0.16:0.0%,0.58:0.0%,0.27:0.0%,0.38:0.0%,0.37:0.0%,0.43:0.0%,0.6:0.0%,0.41:0.0%,0.76:0.0%,0.35:0.0%,0.26:0.0%,0.39:0.0%,0.59:0.0%,0.56:0.0%,0.36:0.0%,0.71:0.0%,0.32:0.0%,0.45:0.0%,0.34:0.0%,0.78:0.0%,0.82:0.0%,0.85:0.0%,0.87:0.0%,0.42:0.0%,0.53:0.0%,0.74:0.0%,0.57:0.0%,0.61:0.0%,0.24:0.0%,0.28:0.0%,0.96:0.0%,0.51:0.0%,0.54:0.0%,0.44:0.0%,0.73:0.0%,0.55:0.0%,0.48:0.0%,0.47:0.0%,0.63:0.0%,0.65:0.0%,0.68:0.0%,0.7:0.0%,0.72:0.0%,0.46:0.0%]\n",
      "** rerror_rate:[0.0:91.88%,1.0:7.45%,0.5:0.04%,0.9:0.03%,0.01:0.03%,0.89:0.03%,0.92:0.02%,0.25:0.02%,0.33:0.02%,0.93:0.02%,0.91:0.02%,0.99:0.02%,0.2:0.02%,0.88:0.02%,0.95:0.02%,0.08:0.02%,0.03:0.02%,0.17:0.02%,0.07:0.01%,0.94:0.01%,0.06:0.01%,0.14:0.01%,0.04:0.01%,0.87:0.01%,0.05:0.01%,0.86:0.01%,0.12:0.01%,0.02:0.01%,0.11:0.01%,0.1:0.01%,0.96:0.01%,0.09:0.01%,0.85:0.01%,0.76:0.01%,0.79:0.01%,0.82:0.01%,0.77:0.01%,0.8:0.01%,0.67:0.01%,0.84:0.01%,0.75:0.01%,0.78:0.01%,0.83:0.01%,0.81:0.0%,0.71:0.0%,0.97:0.0%,0.73:0.0%,0.72:0.0%,0.74:0.0%,0.21:0.0%,0.56:0.0%,0.98:0.0%,0.7:0.0%,0.69:0.0%,0.22:0.0%,0.36:0.0%,0.4:0.0%,0.64:0.0%,0.26:0.0%,0.6:0.0%,0.35:0.0%,0.37:0.0%,0.62:0.0%,0.34:0.0%,0.27:0.0%,0.65:0.0%,0.68:0.0%,0.32:0.0%,0.29:0.0%,0.19:0.0%,0.3:0.0%,0.23:0.0%,0.43:0.0%,0.31:0.0%,0.24:0.0%,0.66:0.0%,0.57:0.0%,0.28:0.0%,0.38:0.0%,0.58:0.0%,0.63:0.0%,0.61:0.0%,0.59:0.0%,0.18:0.0%,0.44:0.0%,0.39:0.0%,0.16:0.0%,0.45:0.0%,0.55:0.0%]\n",
      "** srv_rerror_rate:[0.0:91.5%,1.0:7.6%,0.5:0.11%,0.33:0.08%,0.25:0.06%,0.03:0.06%,0.02:0.05%,0.2:0.05%,0.12:0.05%,0.04:0.05%,0.17:0.05%,0.14:0.04%,0.05:0.04%,0.06:0.04%,0.08:0.03%,0.07:0.03%,0.11:0.02%,0.1:0.02%,0.09:0.02%,0.67:0.02%,0.4:0.01%,0.29:0.01%,0.22:0.01%,0.01:0.0%,0.75:0.0%,0.6:0.0%,0.83:0.0%,0.8:0.0%,0.86:0.0%,0.88:0.0%,0.95:0.0%,0.18:0.0%,0.96:0.0%,0.85:0.0%,0.89:0.0%,0.81:0.0%,0.79:0.0%,0.43:0.0%,0.82:0.0%,0.87:0.0%,0.13:0.0%,0.84:0.0%,0.15:0.0%,0.93:0.0%,0.9:0.0%,0.38:0.0%,0.92:0.0%,0.71:0.0%,0.78:0.0%,0.94:0.0%,0.73:0.0%,0.62:0.0%,0.91:0.0%,0.76:0.0%,0.64:0.0%,0.69:0.0%,0.3:0.0%,0.57:0.0%,0.56:0.0%,0.21:0.0%,0.77:0.0%,0.7:0.0%,0.74:0.0%,0.44:0.0%,0.27:0.0%,0.36:0.0%,0.72:0.0%,0.23:0.0%,0.58:0.0%,0.19:0.0%,0.24:0.0%,0.32:0.0%,0.37:0.0%,0.39:0.0%,0.16:0.0%,0.55:0.0%]\n",
      "** same_srv_rate:101 (0%)\n",
      "** diff_srv_rate:[0.0:75.0%,0.06:11.28%,0.07:5.3%,0.05:3.28%,0.08:1.22%,1.0:0.93%,0.5:0.39%,0.67:0.37%,0.09:0.27%,0.04:0.24%,0.6:0.14%,0.1:0.14%,0.12:0.12%,0.11:0.11%,0.01:0.1%,0.14:0.08%,0.13:0.06%,0.33:0.06%,0.15:0.06%,0.4:0.06%,0.29:0.06%,0.17:0.06%,0.03:0.05%,0.25:0.05%,0.75:0.04%,0.18:0.04%,0.2:0.04%,0.16:0.04%,0.02:0.04%,0.19:0.03%,0.22:0.03%,0.21:0.03%,0.38:0.02%,0.52:0.02%,0.27:0.02%,0.23:0.02%,0.24:0.02%,0.53:0.01%,0.43:0.01%,0.3:0.01%,0.57:0.01%,0.31:0.01%,0.36:0.01%,0.26:0.01%,0.42:0.01%,0.8:0.01%,0.44:0.01%,0.54:0.01%,0.99:0.01%,0.56:0.01%,0.28:0.01%,0.55:0.01%,0.51:0.01%,0.37:0.0%,0.41:0.0%,0.32:0.0%,0.95:0.0%,0.45:0.0%,0.58:0.0%,0.96:0.0%,0.35:0.0%,0.71:0.0%,0.39:0.0%,0.62:0.0%,0.46:0.0%,0.83:0.0%,0.86:0.0%,0.64:0.0%,0.78:0.0%,0.82:0.0%,0.73:0.0%,0.69:0.0%,0.47:0.0%,0.59:0.0%,0.98:0.0%,0.97:0.0%,0.77:0.0%,0.88:0.0%,0.7:0.0%,0.61:0.0%,0.85:0.0%,0.87:0.0%,0.89:0.0%,0.72:0.0%,0.79:0.0%,0.76:0.0%,0.74:0.0%,0.92:0.0%,0.63:0.0%,0.65:0.0%,0.68:0.0%,0.9:0.0%,0.91:0.0%,0.48:0.0%,0.81:0.0%]\n",
      "** srv_diff_host_rate:[0.0:70.31%,1.0:6.51%,0.12:1.3%,0.5:1.13%,0.67:1.06%,0.11:1.06%,0.33:1.02%,0.25:0.98%,0.1:0.96%,0.14:0.95%,0.17:0.89%,0.08:0.89%,0.09:0.86%,0.2:0.86%,0.15:0.83%,0.18:0.83%,0.4:0.79%,0.29:0.78%,0.07:0.77%,0.13:0.72%,0.22:0.71%,0.06:0.67%,0.02:0.45%,0.05:0.45%,0.01:0.37%,0.19:0.34%,0.21:0.33%,0.75:0.3%,0.16:0.3%,0.27:0.3%,0.04:0.27%,0.23:0.25%,0.38:0.24%,0.6:0.23%,0.3:0.23%,0.43:0.22%,0.03:0.17%,0.24:0.12%,0.31:0.1%,0.36:0.08%,0.8:0.08%,0.44:0.06%,0.57:0.06%,0.26:0.04%,0.28:0.03%,0.42:0.02%,0.45:0.02%,0.56:0.01%,0.83:0.01%,0.62:0.01%,0.71:0.01%,0.32:0.01%,0.35:0.01%,0.46:0.0%,0.55:0.0%,0.86:0.0%,0.37:0.0%,0.39:0.0%,0.47:0.0%,0.41:0.0%,0.54:0.0%,0.58:0.0%,0.64:0.0%,0.78:0.0%,0.88:0.0%,0.53:0.0%,0.7:0.0%,0.73:0.0%,0.48:0.0%,0.77:0.0%,0.9:0.0%,0.89:0.0%]\n",
      "** dst_host_count:256 (0%)\n",
      "** dst_host_srv_count:256 (0%)\n",
      "** dst_host_same_srv_rate:101 (0%)\n",
      "** dst_host_diff_srv_rate:101 (0%)\n",
      "** dst_host_same_src_port_rate:101 (0%)\n",
      "** dst_host_srv_diff_host_rate:[0.0:54.6%,0.02:10.9%,0.01:9.72%,0.04:6.18%,0.03:6.1%,0.05:4.26%,0.06:1.78%,0.07:1.36%,0.08:0.58%,0.09:0.51%,0.1:0.27%,0.11:0.27%,0.15:0.25%,0.13:0.24%,0.16:0.22%,0.14:0.22%,0.12:0.21%,0.18:0.21%,0.2:0.2%,0.17:0.2%,0.25:0.2%,0.5:0.19%,0.22:0.15%,0.19:0.15%,0.21:0.14%,0.23:0.08%,0.24:0.08%,0.29:0.08%,1.0:0.08%,0.33:0.07%,0.26:0.07%,0.51:0.06%,0.27:0.06%,0.4:0.05%,0.28:0.03%,0.67:0.03%,0.3:0.03%,0.52:0.02%,0.31:0.02%,0.32:0.02%,0.38:0.01%,0.43:0.01%,0.35:0.01%,0.36:0.01%,0.34:0.01%,0.53:0.01%,0.6:0.01%,0.54:0.01%,0.37:0.0%,0.44:0.0%,0.56:0.0%,0.57:0.0%,0.39:0.0%,0.42:0.0%,0.75:0.0%,0.55:0.0%,0.41:0.0%,0.46:0.0%,0.45:0.0%,0.47:0.0%,0.62:0.0%,0.48:0.0%,0.8:0.0%,0.58:0.0%,0.49:0.0%,0.71:0.0%,0.97:0.0%,0.64:0.0%,0.7:0.0%,0.86:0.0%,0.83:0.0%,0.73:0.0%,0.59:0.0%,0.93:0.0%,0.78:0.0%,0.88:0.0%]\n",
      "** dst_host_serror_rate:101 (0%)\n",
      "** dst_host_srv_serror_rate:[0.0:76.03%,1.0:18.88%,0.01:4.15%,0.02:0.56%,0.03:0.11%,0.04:0.07%,0.05:0.03%,0.06:0.02%,0.5:0.01%,0.07:0.01%,0.08:0.01%,0.09:0.01%,0.11:0.01%,0.97:0.01%,0.12:0.01%,0.98:0.01%,0.67:0.0%,0.1:0.0%,0.96:0.0%,0.33:0.0%,0.17:0.0%,0.14:0.0%,0.25:0.0%,0.95:0.0%,0.2:0.0%,0.92:0.0%,0.91:0.0%,0.94:0.0%,0.93:0.0%,0.75:0.0%,0.88:0.0%,0.78:0.0%,0.16:0.0%,0.9:0.0%,0.62:0.0%,0.79:0.0%,0.73:0.0%,0.13:0.0%,0.15:0.0%,0.27:0.0%,0.6:0.0%,0.18:0.0%,0.4:0.0%,0.65:0.0%,0.31:0.0%,0.56:0.0%,0.43:0.0%,0.89:0.0%,0.22:0.0%,0.85:0.0%,0.29:0.0%,0.48:0.0%,0.7:0.0%,0.83:0.0%,0.8:0.0%,0.69:0.0%,0.87:0.0%,0.86:0.0%,0.36:0.0%,0.51:0.0%,0.76:0.0%,0.81:0.0%,0.34:0.0%,0.21:0.0%,0.71:0.0%,0.49:0.0%,0.66:0.0%,0.41:0.0%,0.82:0.0%,0.3:0.0%,0.24:0.0%,0.57:0.0%,0.61:0.0%,0.63:0.0%,0.64:0.0%,0.32:0.0%,0.38:0.0%,0.39:0.0%,0.84:0.0%,0.26:0.0%,0.19:0.0%,0.52:0.0%,0.47:0.0%,0.58:0.0%,0.45:0.0%,0.68:0.0%,0.74:0.0%,0.77:0.0%,0.54:0.0%,0.28:0.0%,0.42:0.0%,0.72:0.0%,0.55:0.0%,0.23:0.0%,0.44:0.0%,0.37:0.0%,0.35:0.0%,0.53:0.0%,0.59:0.0%,0.46:0.0%]\n",
      "** dst_host_rerror_rate:101 (0%)\n",
      "** dst_host_srv_rerror_rate:101 (0%)\n",
      "** outcome:[normal.:75.61%,neptune.:22.53%,satan.:0.47%,ipsweep.:0.35%,portsweep.:0.33%,smurf.:0.28%,nmap.:0.14%,back.:0.09%,teardrop.:0.09%,warezclient.:0.08%,pod.:0.02%,guess_passwd.:0.0%,buffer_overflow.:0.0%,warezmaster.:0.0%,land.:0.0%,imap.:0.0%,rootkit.:0.0%,loadmodule.:0.0%,ftp_write.:0.0%,multihop.:0.0%,phf.:0.0%,perl.:0.0%,spy.:0.0%]\n"
     ]
    }
   ],
   "source": [
    "analyze(kdd_df)"
   ]
  },
  {
   "cell_type": "code",
   "execution_count": 14,
   "metadata": {
    "id": "x4Bpcsvu7yRX",
    "tags": []
   },
   "outputs": [],
   "source": [
    "# Encode a numeric column as zscores\n",
    "def encode_numeric_zscore(df, name, mean=None, sd=None):\n",
    "    if mean is None:\n",
    "        mean = df[name].mean()\n",
    "\n",
    "    if sd is None:\n",
    "        sd = df[name].std()\n",
    "\n",
    "    df[name] = (df[name] - mean) / sd\n",
    "    \n",
    "# Encode text values to dummy variables(i.e. [1,0,0],[0,1,0],[0,0,1] for red,green,blue)\n",
    "def encode_text_dummy(df, name):\n",
    "    dummies = pd.get_dummies(df[name])\n",
    "    for x in dummies.columns:\n",
    "        dummy_name = f\"{name}-{x}\"\n",
    "        df[dummy_name] = dummies[x]\n",
    "    df.drop(name, axis=1, inplace=True)"
   ]
  },
  {
   "cell_type": "code",
   "execution_count": 15,
   "metadata": {
    "colab": {
     "base_uri": "https://localhost:8080/"
    },
    "id": "G0xW663I78Lr",
    "outputId": "88527fca-2107-41e7-9deb-e1e1b70c60de",
    "tags": []
   },
   "outputs": [
    {
     "data": {
      "text/html": [
       "<div>\n",
       "<style scoped>\n",
       "    .dataframe tbody tr th:only-of-type {\n",
       "        vertical-align: middle;\n",
       "    }\n",
       "\n",
       "    .dataframe tbody tr th {\n",
       "        vertical-align: top;\n",
       "    }\n",
       "\n",
       "    .dataframe thead th {\n",
       "        text-align: right;\n",
       "    }\n",
       "</style>\n",
       "<table border=\"1\" class=\"dataframe\">\n",
       "  <thead>\n",
       "    <tr style=\"text-align: right;\">\n",
       "      <th></th>\n",
       "      <th>duration</th>\n",
       "      <th>src_bytes</th>\n",
       "      <th>dst_bytes</th>\n",
       "      <th>wrong_fragment</th>\n",
       "      <th>urgent</th>\n",
       "      <th>hot</th>\n",
       "      <th>num_failed_logins</th>\n",
       "      <th>num_compromised</th>\n",
       "      <th>root_shell</th>\n",
       "      <th>su_attempted</th>\n",
       "      <th>...</th>\n",
       "      <th>flag-SF</th>\n",
       "      <th>flag-SH</th>\n",
       "      <th>land-0</th>\n",
       "      <th>land-1</th>\n",
       "      <th>logged_in-0</th>\n",
       "      <th>logged_in-1</th>\n",
       "      <th>is_host_login-0</th>\n",
       "      <th>is_host_login-1</th>\n",
       "      <th>is_guest_login-0</th>\n",
       "      <th>is_guest_login-1</th>\n",
       "    </tr>\n",
       "  </thead>\n",
       "  <tbody>\n",
       "    <tr>\n",
       "      <th>0</th>\n",
       "      <td>-0.102066</td>\n",
       "      <td>-0.002798</td>\n",
       "      <td>0.029198</td>\n",
       "      <td>-0.030962</td>\n",
       "      <td>-0.002356</td>\n",
       "      <td>-0.054418</td>\n",
       "      <td>-0.009373</td>\n",
       "      <td>-0.004338</td>\n",
       "      <td>-0.01739</td>\n",
       "      <td>-0.009705</td>\n",
       "      <td>...</td>\n",
       "      <td>1</td>\n",
       "      <td>0</td>\n",
       "      <td>1</td>\n",
       "      <td>0</td>\n",
       "      <td>0</td>\n",
       "      <td>1</td>\n",
       "      <td>1</td>\n",
       "      <td>0</td>\n",
       "      <td>1</td>\n",
       "      <td>0</td>\n",
       "    </tr>\n",
       "    <tr>\n",
       "      <th>1</th>\n",
       "      <td>-0.102066</td>\n",
       "      <td>-0.002824</td>\n",
       "      <td>-0.000251</td>\n",
       "      <td>-0.030962</td>\n",
       "      <td>-0.002356</td>\n",
       "      <td>-0.054418</td>\n",
       "      <td>-0.009373</td>\n",
       "      <td>-0.004338</td>\n",
       "      <td>-0.01739</td>\n",
       "      <td>-0.009705</td>\n",
       "      <td>...</td>\n",
       "      <td>1</td>\n",
       "      <td>0</td>\n",
       "      <td>1</td>\n",
       "      <td>0</td>\n",
       "      <td>0</td>\n",
       "      <td>1</td>\n",
       "      <td>1</td>\n",
       "      <td>0</td>\n",
       "      <td>1</td>\n",
       "      <td>0</td>\n",
       "    </tr>\n",
       "    <tr>\n",
       "      <th>2</th>\n",
       "      <td>-0.102066</td>\n",
       "      <td>-0.002787</td>\n",
       "      <td>-0.002648</td>\n",
       "      <td>-0.030962</td>\n",
       "      <td>-0.002356</td>\n",
       "      <td>-0.054418</td>\n",
       "      <td>-0.009373</td>\n",
       "      <td>-0.004338</td>\n",
       "      <td>-0.01739</td>\n",
       "      <td>-0.009705</td>\n",
       "      <td>...</td>\n",
       "      <td>1</td>\n",
       "      <td>0</td>\n",
       "      <td>1</td>\n",
       "      <td>0</td>\n",
       "      <td>0</td>\n",
       "      <td>1</td>\n",
       "      <td>1</td>\n",
       "      <td>0</td>\n",
       "      <td>1</td>\n",
       "      <td>0</td>\n",
       "    </tr>\n",
       "    <tr>\n",
       "      <th>3</th>\n",
       "      <td>-0.102066</td>\n",
       "      <td>-0.002789</td>\n",
       "      <td>-0.002064</td>\n",
       "      <td>-0.030962</td>\n",
       "      <td>-0.002356</td>\n",
       "      <td>-0.054418</td>\n",
       "      <td>-0.009373</td>\n",
       "      <td>-0.004338</td>\n",
       "      <td>-0.01739</td>\n",
       "      <td>-0.009705</td>\n",
       "      <td>...</td>\n",
       "      <td>1</td>\n",
       "      <td>0</td>\n",
       "      <td>1</td>\n",
       "      <td>0</td>\n",
       "      <td>0</td>\n",
       "      <td>1</td>\n",
       "      <td>1</td>\n",
       "      <td>0</td>\n",
       "      <td>1</td>\n",
       "      <td>0</td>\n",
       "    </tr>\n",
       "    <tr>\n",
       "      <th>4</th>\n",
       "      <td>-0.102066</td>\n",
       "      <td>-0.002786</td>\n",
       "      <td>-0.003187</td>\n",
       "      <td>-0.030962</td>\n",
       "      <td>-0.002356</td>\n",
       "      <td>-0.054418</td>\n",
       "      <td>-0.009373</td>\n",
       "      <td>-0.004338</td>\n",
       "      <td>-0.01739</td>\n",
       "      <td>-0.009705</td>\n",
       "      <td>...</td>\n",
       "      <td>1</td>\n",
       "      <td>0</td>\n",
       "      <td>1</td>\n",
       "      <td>0</td>\n",
       "      <td>0</td>\n",
       "      <td>1</td>\n",
       "      <td>1</td>\n",
       "      <td>0</td>\n",
       "      <td>1</td>\n",
       "      <td>0</td>\n",
       "    </tr>\n",
       "  </tbody>\n",
       "</table>\n",
       "<p>5 rows × 126 columns</p>\n",
       "</div>"
      ],
      "text/plain": [
       "   duration  src_bytes  dst_bytes  wrong_fragment    urgent       hot  \\\n",
       "0 -0.102066  -0.002798   0.029198       -0.030962 -0.002356 -0.054418   \n",
       "1 -0.102066  -0.002824  -0.000251       -0.030962 -0.002356 -0.054418   \n",
       "2 -0.102066  -0.002787  -0.002648       -0.030962 -0.002356 -0.054418   \n",
       "3 -0.102066  -0.002789  -0.002064       -0.030962 -0.002356 -0.054418   \n",
       "4 -0.102066  -0.002786  -0.003187       -0.030962 -0.002356 -0.054418   \n",
       "\n",
       "   num_failed_logins  num_compromised  root_shell  su_attempted  ...  flag-SF  \\\n",
       "0          -0.009373        -0.004338    -0.01739     -0.009705  ...        1   \n",
       "1          -0.009373        -0.004338    -0.01739     -0.009705  ...        1   \n",
       "2          -0.009373        -0.004338    -0.01739     -0.009705  ...        1   \n",
       "3          -0.009373        -0.004338    -0.01739     -0.009705  ...        1   \n",
       "4          -0.009373        -0.004338    -0.01739     -0.009705  ...        1   \n",
       "\n",
       "   flag-SH  land-0  land-1  logged_in-0  logged_in-1  is_host_login-0  \\\n",
       "0        0       1       0            0            1                1   \n",
       "1        0       1       0            0            1                1   \n",
       "2        0       1       0            0            1                1   \n",
       "3        0       1       0            0            1                1   \n",
       "4        0       1       0            0            1                1   \n",
       "\n",
       "   is_host_login-1  is_guest_login-0  is_guest_login-1  \n",
       "0                0                 1                 0  \n",
       "1                0                 1                 0  \n",
       "2                0                 1                 0  \n",
       "3                0                 1                 0  \n",
       "4                0                 1                 0  \n",
       "\n",
       "[5 rows x 126 columns]"
      ]
     },
     "execution_count": 15,
     "metadata": {},
     "output_type": "execute_result"
    }
   ],
   "source": [
    "# Now encode the feature vector\n",
    "\n",
    "encode_numeric_zscore(kdd_df, 'duration')\n",
    "encode_text_dummy(kdd_df, 'protocol_type')\n",
    "encode_text_dummy(kdd_df, 'service')\n",
    "encode_text_dummy(kdd_df, 'flag')\n",
    "encode_numeric_zscore(kdd_df, 'src_bytes')\n",
    "encode_numeric_zscore(kdd_df, 'dst_bytes')\n",
    "encode_text_dummy(kdd_df, 'land')\n",
    "encode_numeric_zscore(kdd_df, 'wrong_fragment')\n",
    "encode_numeric_zscore(kdd_df, 'urgent')\n",
    "encode_numeric_zscore(kdd_df, 'hot')\n",
    "encode_numeric_zscore(kdd_df, 'num_failed_logins')\n",
    "encode_text_dummy(kdd_df, 'logged_in')\n",
    "encode_numeric_zscore(kdd_df, 'num_compromised')\n",
    "encode_numeric_zscore(kdd_df, 'root_shell')\n",
    "encode_numeric_zscore(kdd_df, 'su_attempted')\n",
    "encode_numeric_zscore(kdd_df, 'num_root')\n",
    "encode_numeric_zscore(kdd_df, 'num_file_creations')\n",
    "encode_numeric_zscore(kdd_df, 'num_shells')\n",
    "encode_numeric_zscore(kdd_df, 'num_access_files')\n",
    "encode_numeric_zscore(kdd_df, 'num_outbound_cmds')\n",
    "encode_text_dummy(kdd_df, 'is_host_login')\n",
    "encode_text_dummy(kdd_df, 'is_guest_login')\n",
    "encode_numeric_zscore(kdd_df, 'count')\n",
    "encode_numeric_zscore(kdd_df, 'srv_count')\n",
    "encode_numeric_zscore(kdd_df, 'serror_rate')\n",
    "encode_numeric_zscore(kdd_df, 'srv_serror_rate')\n",
    "encode_numeric_zscore(kdd_df, 'rerror_rate')\n",
    "encode_numeric_zscore(kdd_df, 'srv_rerror_rate')\n",
    "encode_numeric_zscore(kdd_df, 'same_srv_rate')\n",
    "encode_numeric_zscore(kdd_df, 'diff_srv_rate')\n",
    "encode_numeric_zscore(kdd_df, 'srv_diff_host_rate')\n",
    "encode_numeric_zscore(kdd_df, 'dst_host_count')\n",
    "encode_numeric_zscore(kdd_df, 'dst_host_srv_count')\n",
    "encode_numeric_zscore(kdd_df, 'dst_host_same_srv_rate')\n",
    "encode_numeric_zscore(kdd_df, 'dst_host_diff_srv_rate')\n",
    "encode_numeric_zscore(kdd_df, 'dst_host_same_src_port_rate')\n",
    "encode_numeric_zscore(kdd_df, 'dst_host_srv_diff_host_rate')\n",
    "encode_numeric_zscore(kdd_df, 'dst_host_serror_rate')\n",
    "encode_numeric_zscore(kdd_df, 'dst_host_srv_serror_rate')\n",
    "encode_numeric_zscore(kdd_df, 'dst_host_rerror_rate')\n",
    "encode_numeric_zscore(kdd_df, 'dst_host_srv_rerror_rate')\n",
    "\n",
    "# display 5 rows\n",
    "\n",
    "kdd_df.dropna(inplace=True,axis=1)\n",
    "kdd_df[0:5]\n",
    "# This is the numeric feature vectorF"
   ]
  },
  {
   "cell_type": "markdown",
   "metadata": {
    "id": "qY9DQ7zL36_v"
   },
   "source": [
    "#SMOTE"
   ]
  },
  {
   "cell_type": "code",
   "execution_count": 16,
   "metadata": {
    "id": "o63fKfW0Ooxo",
    "tags": []
   },
   "outputs": [],
   "source": [
    "x = kdd_df.drop(['outcome'], axis=1)\n",
    "y = kdd_df['outcome']"
   ]
  },
  {
   "cell_type": "code",
   "execution_count": 17,
   "metadata": {
    "colab": {
     "base_uri": "https://localhost:8080/"
    },
    "id": "E4R2Dj8Ft0hP",
    "outputId": "f5f58125-cabb-4bb4-c305-2b15f9993872",
    "tags": []
   },
   "outputs": [
    {
     "name": "stdout",
     "output_type": "stream",
     "text": [
      "Before Counter({'normal.': 812814, 'neptune.': 242149, 'satan.': 5019, 'ipsweep.': 3723, 'portsweep.': 3564, 'smurf.': 3007, 'nmap.': 1554, 'back.': 968, 'teardrop.': 918, 'warezclient.': 893, 'pod.': 206, 'guess_passwd.': 53, 'buffer_overflow.': 30, 'warezmaster.': 20, 'land.': 19, 'imap.': 12, 'rootkit.': 10, 'loadmodule.': 9, 'ftp_write.': 8, 'multihop.': 7, 'phf.': 4, 'perl.': 3, 'spy.': 2})\n",
      "After Counter({'normal.': 812814, 'buffer_overflow.': 812814, 'loadmodule.': 812814, 'perl.': 812814, 'neptune.': 812814, 'smurf.': 812814, 'guess_passwd.': 812814, 'pod.': 812814, 'teardrop.': 812814, 'portsweep.': 812814, 'ipsweep.': 812814, 'land.': 812814, 'ftp_write.': 812814, 'back.': 812814, 'imap.': 812814, 'satan.': 812814, 'phf.': 812814, 'nmap.': 812814, 'multihop.': 812814, 'warezmaster.': 812814, 'warezclient.': 812814, 'spy.': 812814, 'rootkit.': 812814})\n"
     ]
    }
   ],
   "source": [
    "counter = Counter(y)\n",
    "print('Before',counter)\n",
    "# oversampling the train dataset using SMOTE\n",
    "sm = SMOTE(sampling_strategy= 'not majority',k_neighbors= 1)\n",
    "X_sm, y_sm = sm.fit_resample(x, y)\n",
    "counter = Counter(y_sm)\n",
    "print('After',counter)"
   ]
  },
  {
   "cell_type": "markdown",
   "metadata": {
    "id": "ZrpuN-qfrdnD"
   },
   "source": [
    "##RF + similarity optimization"
   ]
  },
  {
   "cell_type": "code",
   "execution_count": null,
   "metadata": {
    "execution": {
     "iopub.execute_input": "2022-11-15T02:22:16.237224Z",
     "iopub.status.busy": "2022-11-15T02:22:16.236991Z",
     "iopub.status.idle": "2022-11-15T02:32:16.989807Z",
     "shell.execute_reply": "2022-11-15T02:32:16.980413Z",
     "shell.execute_reply.started": "2022-11-15T02:22:16.237193Z"
    },
    "id": "DwXgvth02WFn"
   },
   "outputs": [],
   "source": [
    "std_slc = StandardScaler()\n",
    "pca = decomposition.PCA()\n",
    "dtree = RandomForestClassifier()\n",
    "pipe = Pipeline(steps=[(\"std_slc\", std_slc), (\"pca\", pca), (\"dtree\", dtree)])\n",
    "\n",
    "n_components = list(range(1,X_sm.shape[1]+1,1))\n",
    "criterion = [\"friedman_mse\", \"mse\"]\n",
    "max_depth = [4,6,8,10]\n",
    "parameters = dict(pca__n_components=n_components, dtree__criterion=criterion, dtree__max_depth=max_depth)\n",
    "          \n",
    "clf = GridSearchCV(pipe, parameters)\n",
    "clf.fit(X_sm, y_sm)\n",
    "\n",
    "print(\"Best Number Of Components:\", clf.best_estimator_.get_params()[\"pca__n_components\"])\n",
    "print(); print(clf.best_estimator_.get_params()[\"dtreeReg\"])\n",
    "\n",
    "CV_Result = cross_val_score(clf, X_sm, y_sm, cv=3, n_jobs=-1, scoring=\"r2\")\n",
    "print(); print(CV_Result)\n",
    "print(); print(CV_Result.mean())\n",
    "print(); print(CV_Result.std())"
   ]
  },
  {
   "cell_type": "markdown",
   "metadata": {
    "id": "0G2p0LGA3lp-"
   },
   "source": [
    "#split the dataset"
   ]
  },
  {
   "cell_type": "code",
   "execution_count": 18,
   "metadata": {
    "id": "LUp_XUtz3lSF",
    "tags": []
   },
   "outputs": [],
   "source": [
    "# Splitting the data into train and test\n",
    "X_train,X_test,y_train,y_test=train_test_split(x, y, train_size=0.7, random_state=100)\n",
    "\n",
    "X_train_sm,X_test_sm,y_train_sm,y_test_sm=train_test_split(X_sm, y_sm, train_size=0.7, random_state=100)"
   ]
  },
  {
   "cell_type": "markdown",
   "metadata": {
    "id": "8yEp4a9I0XZN"
   },
   "source": [
    "#Train models on the unnormalized dataset"
   ]
  },
  {
   "cell_type": "code",
   "execution_count": 19,
   "metadata": {
    "colab": {
     "base_uri": "https://localhost:8080/"
    },
    "execution": {
     "iopub.execute_input": "2022-11-15T02:32:30.710918Z",
     "iopub.status.busy": "2022-11-15T02:32:30.710724Z",
     "iopub.status.idle": "2022-11-15T02:32:37.615839Z",
     "shell.execute_reply": "2022-11-15T02:32:37.615288Z",
     "shell.execute_reply.started": "2022-11-15T02:32:30.710898Z"
    },
    "id": "xaW5L0IM0XZR",
    "outputId": "277f2aad-0a73-499e-8b27-87ac87b229e9"
   },
   "outputs": [
    {
     "name": "stdout",
     "output_type": "stream",
     "text": [
      "['normal.' 'normal.' 'normal.' ... 'normal.' 'neptune.' 'normal.']\n"
     ]
    }
   ],
   "source": [
    "neigh = KNeighborsClassifier(n_neighbors=3)\n",
    "neigh.fit(X_train, y_train)\n",
    "y_pred_knn = neigh.predict(X_test)\n",
    "print(y_pred_knn)"
   ]
  },
  {
   "cell_type": "code",
   "execution_count": 20,
   "metadata": {
    "colab": {
     "base_uri": "https://localhost:8080/",
     "height": 335
    },
    "execution": {
     "iopub.execute_input": "2022-11-15T02:32:37.617676Z",
     "iopub.status.busy": "2022-11-15T02:32:37.616914Z",
     "iopub.status.idle": "2022-11-15T02:32:46.038579Z",
     "shell.execute_reply": "2022-11-15T02:32:46.037893Z",
     "shell.execute_reply.started": "2022-11-15T02:32:37.617652Z"
    },
    "id": "mH-DI4UJ0XZR",
    "outputId": "ee61b82c-60f9-4451-c692-dd4a2f59efa6"
   },
   "outputs": [
    {
     "name": "stderr",
     "output_type": "stream",
     "text": [
      "/home/ec2-user/anaconda3/envs/pytorch_p38/lib/python3.8/site-packages/sklearn/utils/deprecation.py:87: FutureWarning: Function plot_confusion_matrix is deprecated; Function `plot_confusion_matrix` is deprecated in 1.0 and will be removed in 1.2. Use one of the class methods: ConfusionMatrixDisplay.from_predictions or ConfusionMatrixDisplay.from_estimator.\n",
      "  warnings.warn(msg, category=FutureWarning)\n"
     ]
    },
    {
     "data": {
      "image/png": "[encoded data removed]",
      "text/plain": [
       "<Figure size 432x288 with 2 Axes>"
      ]
     },
     "metadata": {
      "needs_background": "light"
     },
     "output_type": "display_data"
    }
   ],
   "source": [
    "#confusion_matrix(y_test, y_pred_knn)\n",
    "from sklearn.metrics import plot_confusion_matrix\n",
    "cnf_matrix=confusion_matrix(y_test,y_pred_knn)\n",
    "plot_confusion_matrix(neigh, X_test, y_test)\n",
    "plt.show()"
   ]
  },
  {
   "cell_type": "code",
   "execution_count": 21,
   "metadata": {
    "colab": {
     "base_uri": "https://localhost:8080/"
    },
    "execution": {
     "iopub.execute_input": "2022-11-15T02:32:46.039566Z",
     "iopub.status.busy": "2022-11-15T02:32:46.039368Z",
     "iopub.status.idle": "2022-11-15T02:32:46.801463Z",
     "shell.execute_reply": "2022-11-15T02:32:46.800750Z",
     "shell.execute_reply.started": "2022-11-15T02:32:46.039548Z"
    },
    "id": "vG1YZIlC0XZS",
    "outputId": "982adf63-d983-4f25-c011-3e88fbcb71e9"
   },
   "outputs": [
    {
     "name": "stderr",
     "output_type": "stream",
     "text": [
      "/home/ec2-user/anaconda3/envs/pytorch_p38/lib/python3.8/site-packages/sklearn/metrics/_classification.py:1334: UndefinedMetricWarning: Precision and F-score are ill-defined and being set to 0.0 in labels with no predicted samples. Use `zero_division` parameter to control this behavior.\n",
      "  _warn_prf(average, modifier, msg_start, len(result))\n",
      "/home/ec2-user/anaconda3/envs/pytorch_p38/lib/python3.8/site-packages/sklearn/metrics/_classification.py:1334: UndefinedMetricWarning: Recall and F-score are ill-defined and being set to 0.0 in labels with no true samples. Use `zero_division` parameter to control this behavior.\n",
      "  _warn_prf(average, modifier, msg_start, len(result))\n",
      "/home/ec2-user/anaconda3/envs/pytorch_p38/lib/python3.8/site-packages/sklearn/metrics/_classification.py:1334: UndefinedMetricWarning: Precision and F-score are ill-defined and being set to 0.0 in labels with no predicted samples. Use `zero_division` parameter to control this behavior.\n",
      "  _warn_prf(average, modifier, msg_start, len(result))\n",
      "/home/ec2-user/anaconda3/envs/pytorch_p38/lib/python3.8/site-packages/sklearn/metrics/_classification.py:1334: UndefinedMetricWarning: Recall and F-score are ill-defined and being set to 0.0 in labels with no true samples. Use `zero_division` parameter to control this behavior.\n",
      "  _warn_prf(average, modifier, msg_start, len(result))\n"
     ]
    },
    {
     "name": "stdout",
     "output_type": "stream",
     "text": [
      "                  precision    recall  f1-score   support\n",
      "\n",
      "           back.       0.99      0.96      0.97       271\n",
      "buffer_overflow.       0.64      0.69      0.67        13\n",
      "      ftp_write.       0.00      0.00      0.00         3\n",
      "   guess_passwd.       1.00      0.93      0.97        15\n",
      "           imap.       1.00      0.67      0.80         3\n",
      "        ipsweep.       0.98      0.98      0.98      1158\n",
      "           land.       0.00      0.00      0.00         5\n",
      "     loadmodule.       0.00      0.00      0.00         3\n",
      "       multihop.       0.17      0.33      0.22         3\n",
      "        neptune.       1.00      1.00      1.00     72567\n",
      "           nmap.       0.98      0.98      0.98       482\n",
      "         normal.       1.00      1.00      1.00    243817\n",
      "           perl.       0.00      0.00      0.00         0\n",
      "            pod.       1.00      0.98      0.99        64\n",
      "      portsweep.       1.00      0.99      0.99      1065\n",
      "        rootkit.       0.00      0.00      0.00         5\n",
      "          satan.       1.00      0.99      0.99      1541\n",
      "          smurf.       1.00      1.00      1.00       913\n",
      "       teardrop.       1.00      1.00      1.00       273\n",
      "    warezclient.       0.97      0.92      0.94       290\n",
      "    warezmaster.       1.00      0.57      0.73         7\n",
      "\n",
      "        accuracy                           1.00    322498\n",
      "       macro avg       0.70      0.67      0.68    322498\n",
      "    weighted avg       1.00      1.00      1.00    322498\n",
      "\n"
     ]
    },
    {
     "name": "stderr",
     "output_type": "stream",
     "text": [
      "/home/ec2-user/anaconda3/envs/pytorch_p38/lib/python3.8/site-packages/sklearn/metrics/_classification.py:1334: UndefinedMetricWarning: Precision and F-score are ill-defined and being set to 0.0 in labels with no predicted samples. Use `zero_division` parameter to control this behavior.\n",
      "  _warn_prf(average, modifier, msg_start, len(result))\n",
      "/home/ec2-user/anaconda3/envs/pytorch_p38/lib/python3.8/site-packages/sklearn/metrics/_classification.py:1334: UndefinedMetricWarning: Recall and F-score are ill-defined and being set to 0.0 in labels with no true samples. Use `zero_division` parameter to control this behavior.\n",
      "  _warn_prf(average, modifier, msg_start, len(result))\n"
     ]
    }
   ],
   "source": [
    "print(classification_report(y_test, y_pred_knn))"
   ]
  },
  {
   "cell_type": "code",
   "execution_count": null,
   "metadata": {
    "execution": {
     "iopub.execute_input": "2022-11-15T02:32:46.803605Z",
     "iopub.status.busy": "2022-11-15T02:32:46.803316Z",
     "iopub.status.idle": "2022-11-15T02:33:30.327480Z",
     "shell.execute_reply": "2022-11-15T02:33:30.326767Z",
     "shell.execute_reply.started": "2022-11-15T02:32:46.803576Z"
    },
    "id": "bCjtItLT0XZS",
    "outputId": "dbcd88f1-bead-4c6c-9a23-aa3e5afa1c84"
   },
   "outputs": [],
   "source": [
    "svm_clf = svm.SVC()\n",
    "svm_clf.fit(X_train, y_train)"
   ]
  },
  {
   "cell_type": "code",
   "execution_count": null,
   "metadata": {
    "execution": {
     "iopub.execute_input": "2022-11-15T02:34:05.994650Z",
     "iopub.status.busy": "2022-11-15T02:34:05.994112Z",
     "iopub.status.idle": "2022-11-15T02:34:14.201270Z",
     "shell.execute_reply": "2022-11-15T02:34:14.200653Z",
     "shell.execute_reply.started": "2022-11-15T02:34:05.994628Z"
    },
    "id": "eIghWXqN0XZS",
    "outputId": "9c270724-488d-4b0d-aa24-ec13464d2e3c"
   },
   "outputs": [],
   "source": [
    "y_pred_svm = svm_clf.predict(X_test)\n",
    "y_pred_svm"
   ]
  },
  {
   "cell_type": "code",
   "execution_count": null,
   "metadata": {
    "execution": {
     "iopub.execute_input": "2022-11-15T02:34:25.916110Z",
     "iopub.status.busy": "2022-11-15T02:34:25.915341Z",
     "iopub.status.idle": "2022-11-15T02:34:35.304365Z",
     "shell.execute_reply": "2022-11-15T02:34:35.303752Z",
     "shell.execute_reply.started": "2022-11-15T02:34:25.916085Z"
    },
    "id": "X9n7XP7q0XZS",
    "outputId": "d71ce2ea-5531-4f0f-8c2a-e004c3044271"
   },
   "outputs": [],
   "source": [
    "cnf_matrix=confusion_matrix(y_test,y_pred_svm)\n",
    "plot_confusion_matrix(svm_clf, X_test, y_test)\n",
    "plt.show()"
   ]
  },
  {
   "cell_type": "code",
   "execution_count": null,
   "metadata": {
    "execution": {
     "iopub.execute_input": "2022-11-15T02:34:35.305970Z",
     "iopub.status.busy": "2022-11-15T02:34:35.305551Z",
     "iopub.status.idle": "2022-11-15T02:34:36.100525Z",
     "shell.execute_reply": "2022-11-15T02:34:36.099931Z",
     "shell.execute_reply.started": "2022-11-15T02:34:35.305950Z"
    },
    "id": "CJhgScNs5s1E",
    "outputId": "e7ac6a44-5d0d-491c-d066-96da68e010ea"
   },
   "outputs": [],
   "source": [
    "print(classification_report(y_test, y_pred_svm))"
   ]
  },
  {
   "cell_type": "code",
   "execution_count": null,
   "metadata": {
    "colab": {
     "base_uri": "https://localhost:8080/"
    },
    "execution": {
     "iopub.execute_input": "2022-11-15T02:34:36.101441Z",
     "iopub.status.busy": "2022-11-15T02:34:36.101253Z",
     "iopub.status.idle": "2022-11-15T02:34:37.977627Z",
     "shell.execute_reply": "2022-11-15T02:34:37.977018Z",
     "shell.execute_reply.started": "2022-11-15T02:34:36.101423Z"
    },
    "id": "8Qc_3uGV0XZS",
    "outputId": "19149cd9-5c51-4dfe-a1e9-fd752daa4bc6"
   },
   "outputs": [],
   "source": [
    "rf_clf = RandomForestClassifier(max_depth=2, random_state=0)\n",
    "rf_clf.fit(X_train, y_train)"
   ]
  },
  {
   "cell_type": "code",
   "execution_count": null,
   "metadata": {
    "execution": {
     "iopub.execute_input": "2022-11-15T02:34:42.411354Z",
     "iopub.status.busy": "2022-11-15T02:34:42.410820Z",
     "iopub.status.idle": "2022-11-15T02:34:42.885788Z",
     "shell.execute_reply": "2022-11-15T02:34:42.885150Z",
     "shell.execute_reply.started": "2022-11-15T02:34:42.411332Z"
    },
    "id": "BYTdqaHA0XZS"
   },
   "outputs": [],
   "source": [
    "y_pred_rf = rf_clf.predict(X_test)"
   ]
  },
  {
   "cell_type": "code",
   "execution_count": null,
   "metadata": {
    "colab": {
     "base_uri": "https://localhost:8080/",
     "height": 335
    },
    "execution": {
     "iopub.execute_input": "2022-11-15T02:35:01.391994Z",
     "iopub.status.busy": "2022-11-15T02:35:01.391466Z",
     "iopub.status.idle": "2022-11-15T02:35:02.950711Z",
     "shell.execute_reply": "2022-11-15T02:35:02.950139Z",
     "shell.execute_reply.started": "2022-11-15T02:35:01.391971Z"
    },
    "id": "07KsP06B0XZS",
    "outputId": "427d6130-f8ad-4576-e047-b6e9147e5696"
   },
   "outputs": [],
   "source": [
    "#confusion_matrix(y_test, y_pred_knn)\n",
    "from sklearn.metrics import plot_confusion_matrix\n",
    "cnf_matrix=confusion_matrix(y_test,y_pred_rf)\n",
    "plot_confusion_matrix(rf_clf, X_test, y_test)\n",
    "plt.show()"
   ]
  },
  {
   "cell_type": "code",
   "execution_count": null,
   "metadata": {
    "execution": {
     "iopub.execute_input": "2022-11-15T02:35:08.995790Z",
     "iopub.status.busy": "2022-11-15T02:35:08.995443Z",
     "iopub.status.idle": "2022-11-15T02:35:09.756917Z",
     "shell.execute_reply": "2022-11-15T02:35:09.756192Z",
     "shell.execute_reply.started": "2022-11-15T02:35:08.995766Z"
    },
    "id": "TVihTSA7vPnp"
   },
   "outputs": [],
   "source": [
    "print(classification_report(y_test, y_pred_rf))"
   ]
  },
  {
   "cell_type": "markdown",
   "metadata": {
    "id": "JrRFZuRMgDTP"
   },
   "source": [
    "#Train models on normalized dataset with SMOTE"
   ]
  },
  {
   "cell_type": "code",
   "execution_count": null,
   "metadata": {
    "execution": {
     "iopub.execute_input": "2022-11-15T02:35:14.635581Z",
     "iopub.status.busy": "2022-11-15T02:35:14.634918Z"
    },
    "id": "n8zKSGXcgNRF"
   },
   "outputs": [],
   "source": [
    "neigh = KNeighborsClassifier(n_neighbors=3)\n",
    "neigh.fit(X_train_sm, y_train_sm)\n",
    "y_pred_knn = neigh.predict(X_test_sm)\n",
    "print(y_pred_knn)"
   ]
  },
  {
   "cell_type": "code",
   "execution_count": null,
   "metadata": {
    "id": "8SccRxATGLCd"
   },
   "outputs": [],
   "source": [
    "cnf_matrix=confusion_matrix(y_test_sm,y_pred_knn)\n",
    "plot_confusion_matrix(neigh, X_test_sm, y_test_sm)\n",
    "plt.show()"
   ]
  },
  {
   "cell_type": "code",
   "execution_count": null,
   "metadata": {
    "id": "fZMWws5LJkVq"
   },
   "outputs": [],
   "source": [
    "print(classification_report(y_test_sm, y_pred_knn))"
   ]
  },
  {
   "cell_type": "code",
   "execution_count": null,
   "metadata": {
    "id": "0nB8WpbNgtza",
    "tags": []
   },
   "outputs": [],
   "source": [
    "rf_clf = RandomForestClassifier(max_depth=3, random_state=0)\n",
    "rf_clf.fit(X_train_sm, y_train_sm)"
   ]
  },
  {
   "cell_type": "code",
   "execution_count": null,
   "metadata": {
    "id": "hHEGUgdq9KBd",
    "tags": []
   },
   "outputs": [],
   "source": [
    "y_pred_rf = rf_clf.predict(X_test_sm)"
   ]
  },
  {
   "cell_type": "code",
   "execution_count": null,
   "metadata": {
    "id": "ObYCe6JSHuGz",
    "tags": []
   },
   "outputs": [],
   "source": [
    "print(classification_report(y_test_sm, y_pred_rf))"
   ]
  },
  {
   "cell_type": "code",
   "execution_count": null,
   "metadata": {
    "id": "boPalalXwekw",
    "tags": []
   },
   "outputs": [],
   "source": [
    "cnf_matrix=confusion_matrix(y_test_sm,y_pred_rf)\n",
    "plot_confusion_matrix(rf_clf, X_test_sm, y_test_sm)\n",
    "plt.show()"
   ]
  },
  {
   "cell_type": "markdown",
   "metadata": {
    "id": "6z-nxPQGBgLH"
   },
   "source": [
    "#SMOTE + ENN"
   ]
  },
  {
   "cell_type": "code",
   "execution_count": null,
   "metadata": {
    "id": "1Mep274PVtPm",
    "tags": []
   },
   "outputs": [],
   "source": [
    "counter = Counter(y_train)\n",
    "print('Before',counter)\n",
    "# oversampling the train dataset using SMOTE + ENN\n",
    "X_temp = pd.concat([X_train_sm, X_test_sm], axis=0)\n",
    "y_temp = pd.concat([y_train_sm, y_test_sm], axis=0)\n",
    "X_train_temp,X_test_temp,y_train_temp,y_test_temp=train_test_split(X_temp, y_temp, train_size=0.98, random_state=100)\n",
    "\n",
    "smm = SMOTE(sampling_strategy= 'not majority',k_neighbors= 1)\n",
    "smenn = SMOTEENN(sampling_strategy= 'not majority', smote = smm)\n",
    "X_smenn, y_smenn = smenn.fit_resample(X_train_temp, y_train_temp)\n",
    "counter = Counter(y_smenn)\n",
    "print('After',counter)\n",
    "\n",
    "X_x = pd.concat([X_smenn, X_test_temp], axis=0)\n",
    "y_y = pd.concat([y_smenn, y_test_temp], axis=0)\n",
    "X_train_smenn,X_test_smenn,y_train_smenn,y_test_smenn=train_test_split(X_x, y_y, train_size=0.7, random_state=100)"
   ]
  },
  {
   "cell_type": "markdown",
   "metadata": {
    "id": "BrqP1NIsLS3s"
   },
   "source": [
    "#models after normalization using: SMOTE + ENN"
   ]
  },
  {
   "cell_type": "code",
   "execution_count": null,
   "metadata": {
    "execution": {
     "iopub.status.busy": "2022-11-15T02:32:17.015901Z",
     "iopub.status.idle": "2022-11-15T02:32:17.016115Z",
     "shell.execute_reply": "2022-11-15T02:32:17.016022Z",
     "shell.execute_reply.started": "2022-11-15T02:32:17.016009Z"
    },
    "id": "eJ0I0gc0LS3t"
   },
   "outputs": [],
   "source": [
    "neigh = KNeighborsClassifier(n_neighbors=3)\n",
    "neigh.fit(X_train_smenn, y_train_smenn)\n",
    "y_pred_knn = neigh.predict(X_test_sm)\n",
    "print(y_pred_knn)"
   ]
  },
  {
   "cell_type": "code",
   "execution_count": null,
   "metadata": {
    "execution": {
     "iopub.status.busy": "2022-11-15T02:32:17.016825Z",
     "iopub.status.idle": "2022-11-15T02:32:17.017055Z",
     "shell.execute_reply": "2022-11-15T02:32:17.016965Z",
     "shell.execute_reply.started": "2022-11-15T02:32:17.016953Z"
    },
    "id": "L8-RbDliLS3t"
   },
   "outputs": [],
   "source": [
    "cnf_matrix=confusion_matrix(y_test_sm,y_pred_knn)\n",
    "plot_confusion_matrix(neigh, X_test_sm, y_test_sm)\n",
    "plt.show()"
   ]
  },
  {
   "cell_type": "code",
   "execution_count": null,
   "metadata": {
    "execution": {
     "iopub.status.busy": "2022-11-15T02:32:17.017723Z",
     "iopub.status.idle": "2022-11-15T02:32:17.017934Z",
     "shell.execute_reply": "2022-11-15T02:32:17.017834Z",
     "shell.execute_reply.started": "2022-11-15T02:32:17.017822Z"
    },
    "id": "AZdZKM3QLS3t"
   },
   "outputs": [],
   "source": [
    "print(classification_report(y_test_sm, y_pred_knn))"
   ]
  },
  {
   "cell_type": "code",
   "execution_count": null,
   "metadata": {
    "id": "NWR1T1qRLS3x",
    "tags": []
   },
   "outputs": [],
   "source": [
    "rf_clf = RandomForestClassifier(max_depth=3, random_state=0)\n",
    "rf_clf.fit(X_train_smenn, y_train_smenn)"
   ]
  },
  {
   "cell_type": "code",
   "execution_count": null,
   "metadata": {
    "id": "0xA9i5g7LS3x",
    "tags": []
   },
   "outputs": [],
   "source": [
    "y_pred_rf = rf_clf.predict(X_test_sm)"
   ]
  },
  {
   "cell_type": "code",
   "execution_count": null,
   "metadata": {
    "id": "hLVyNz19LS3y",
    "tags": []
   },
   "outputs": [],
   "source": [
    "cnf_matrix=confusion_matrix(y_test_sm,y_pred_rf)\n",
    "plot_confusion_matrix(rf_clf, X_test_sm, y_test_sm)\n",
    "plt.show()"
   ]
  },
  {
   "cell_type": "code",
   "execution_count": null,
   "metadata": {
    "id": "XrUQ7r-PPVkN"
   },
   "outputs": [],
   "source": [
    "print(classification_report(y_test_sm, y_pred_rf))"
   ]
  },
  {
   "cell_type": "markdown",
   "metadata": {
    "id": "OMIpIoxMW-yV"
   },
   "source": [
    "#SMOTE+Tomek links"
   ]
  },
  {
   "cell_type": "code",
   "execution_count": null,
   "metadata": {
    "id": "4jWQT0McW9qG",
    "tags": []
   },
   "outputs": [],
   "source": [
    "counter = Counter(y_train)\n",
    "print('Before',counter)\n",
    "# oversampling the train dataset using SMOTE + Tomek\n",
    "X_temp = pd.concat([X_train_sm, X_test_sm], axis=0)\n",
    "y_temp = pd.concat([y_train_sm, y_test_sm], axis=0)\n",
    "X_train_temp,X_test_temp,y_train_temp,y_test_temp=train_test_split(X_temp, y_temp, train_size=0.98, random_state=100)\n",
    "\n",
    "smtom = SMOTETomek(random_state=139)\n",
    "X_smtom, y_smtom = smtom.fit_resample(X_train_temp, y_train_temp)\n",
    "\n",
    "counter = Counter(y_smtom)\n",
    "print('After',counter)\n",
    "\n",
    "X_x = pd.concat([X_smtom, X_test_temp], axis=0)\n",
    "y_y = pd.concat([y_smtom, y_test_temp], axis=0)\n",
    "X_train_smtom,X_test_smtom,y_train_smtom,y_test_smtom=train_test_split(X_x, y_y, train_size=0.7, random_state=100)"
   ]
  },
  {
   "cell_type": "markdown",
   "metadata": {
    "id": "0yDRm8tF1xgs"
   },
   "source": [
    "#models after normalization using: SMOTE + Tomek links"
   ]
  },
  {
   "cell_type": "code",
   "execution_count": null,
   "metadata": {
    "execution": {
     "iopub.status.busy": "2022-11-15T02:32:17.025426Z",
     "iopub.status.idle": "2022-11-15T02:32:17.025622Z",
     "shell.execute_reply": "2022-11-15T02:32:17.025536Z",
     "shell.execute_reply.started": "2022-11-15T02:32:17.025525Z"
    },
    "id": "nWrWZSsb1xgs"
   },
   "outputs": [],
   "source": [
    "neigh = KNeighborsClassifier(n_neighbors=3)\n",
    "neigh.fit(X_train_smtom, y_train_smtom)\n",
    "y_pred_knn = neigh.predict(X_test_sm)\n",
    "print(y_pred_knn)"
   ]
  },
  {
   "cell_type": "code",
   "execution_count": null,
   "metadata": {
    "execution": {
     "iopub.status.busy": "2022-11-15T02:32:17.026209Z",
     "iopub.status.idle": "2022-11-15T02:32:17.026570Z",
     "shell.execute_reply": "2022-11-15T02:32:17.026434Z",
     "shell.execute_reply.started": "2022-11-15T02:32:17.026421Z"
    },
    "id": "1986LSVg1xgs"
   },
   "outputs": [],
   "source": [
    "cnf_matrix=confusion_matrix(y_test_sm,y_pred_knn)\n",
    "plot_confusion_matrix(neigh, X_test_sm, y_test_sm)\n",
    "plt.show()"
   ]
  },
  {
   "cell_type": "code",
   "execution_count": null,
   "metadata": {
    "execution": {
     "iopub.status.busy": "2022-11-15T02:32:17.027205Z",
     "iopub.status.idle": "2022-11-15T02:32:17.027419Z",
     "shell.execute_reply": "2022-11-15T02:32:17.027317Z",
     "shell.execute_reply.started": "2022-11-15T02:32:17.027306Z"
    },
    "id": "Rcu1B8VN1xgt"
   },
   "outputs": [],
   "source": [
    "print(classification_report(y_test_sm, y_pred_knn))"
   ]
  },
  {
   "cell_type": "code",
   "execution_count": null,
   "metadata": {
    "execution": {
     "iopub.status.busy": "2022-11-15T02:32:17.028046Z",
     "iopub.status.idle": "2022-11-15T02:32:17.028248Z",
     "shell.execute_reply": "2022-11-15T02:32:17.028162Z",
     "shell.execute_reply.started": "2022-11-15T02:32:17.028151Z"
    },
    "id": "7I7C2xMv1xgt"
   },
   "outputs": [],
   "source": [
    "svm_clf = svm.SVC()\n",
    "svm_clf.fit(X_train_smtom, y_train_smtom)"
   ]
  },
  {
   "cell_type": "code",
   "execution_count": null,
   "metadata": {
    "execution": {
     "iopub.status.busy": "2022-11-15T02:32:17.029228Z",
     "iopub.status.idle": "2022-11-15T02:32:17.029462Z",
     "shell.execute_reply": "2022-11-15T02:32:17.029353Z",
     "shell.execute_reply.started": "2022-11-15T02:32:17.029341Z"
    },
    "id": "dIIUFUEx1xgt"
   },
   "outputs": [],
   "source": [
    "y_pred_svm = svm_clf.predict(X_test_sm)\n",
    "y_pred_svm"
   ]
  },
  {
   "cell_type": "code",
   "execution_count": null,
   "metadata": {
    "execution": {
     "iopub.status.busy": "2022-11-15T02:32:17.030044Z",
     "iopub.status.idle": "2022-11-15T02:32:17.030277Z",
     "shell.execute_reply": "2022-11-15T02:32:17.030164Z",
     "shell.execute_reply.started": "2022-11-15T02:32:17.030153Z"
    },
    "id": "nTEZUDK71xgt"
   },
   "outputs": [],
   "source": [
    "cnf_matrix=confusion_matrix(y_test_sm, y_pred_svm)\n",
    "plot_confusion_matrix(svm_clf, X_test_sm, y_test_sm)\n",
    "plt.show()"
   ]
  },
  {
   "cell_type": "code",
   "execution_count": null,
   "metadata": {
    "id": "bCgVkWnTm_9h"
   },
   "outputs": [],
   "source": [
    "print(classification_report(y_test_sm, y_pred_svm))"
   ]
  },
  {
   "cell_type": "code",
   "execution_count": null,
   "metadata": {
    "id": "EC3p-EUD1xgt",
    "tags": []
   },
   "outputs": [],
   "source": [
    "rf_clf = RandomForestClassifier(max_depth=3, random_state=0)\n",
    "rf_clf.fit(X_train_smtom, y_train_smtom)"
   ]
  },
  {
   "cell_type": "code",
   "execution_count": null,
   "metadata": {
    "id": "uAFIVhX41xgt",
    "tags": []
   },
   "outputs": [],
   "source": [
    "y_pred_rf = rf_clf.predict(X_test_sm)"
   ]
  },
  {
   "cell_type": "code",
   "execution_count": null,
   "metadata": {
    "id": "hfisuGGc1xgt",
    "tags": []
   },
   "outputs": [],
   "source": [
    "cnf_matrix=confusion_matrix(y_test_sm,y_pred_rf)\n",
    "plot_confusion_matrix(rf_clf, X_test_sm, y_test_sm)\n",
    "plt.show()"
   ]
  },
  {
   "cell_type": "code",
   "execution_count": null,
   "metadata": {
    "id": "kWps8vp3mz3J"
   },
   "outputs": [],
   "source": [
    "print(classification_report(y_test_sm, y_pred_rf))"
   ]
  }
 ],
 "metadata": {
  "colab": {
   "collapsed_sections": [
    "QBiRuWbuQw22",
    "0G2p0LGA3lp-",
    "6z-nxPQGBgLH",
    "OMIpIoxMW-yV",
    "ADPNbi6cDeUl",
    "BmG-mXg24jzL",
    "OZSprXzo3BHc",
    "MOxDutC23BHi",
    "1h-PulNg3BHk",
    "fCDCAcXX3BHl",
    "cSVQYMSC46DR",
    "GOU-Lg6o4m5J",
    "Uzoj6Xb23gvW",
    "0c1bfdYS3gvX"
   ],
   "provenance": []
  },
  "kernelspec": {
   "display_name": "conda_pytorch_p38",
   "language": "python",
   "name": "conda_pytorch_p38"
  },
  "language_info": {
   "codemirror_mode": {
    "name": "ipython",
    "version": 3
   },
   "file_extension": ".py",
   "mimetype": "text/x-python",
   "name": "python",
   "nbconvert_exporter": "python",
   "pygments_lexer": "ipython3",
   "version": "3.8.12"
  }
 },
 "nbformat": 4,
 "nbformat_minor": 1
}
